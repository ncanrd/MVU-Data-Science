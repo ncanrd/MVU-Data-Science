{
 "cells": [
  {
   "cell_type": "markdown",
   "id": "727b594e",
   "metadata": {},
   "source": [
    "# DSCI 503 – Project 01\n",
    "### Nicholas Allen"
   ]
  },
  {
   "cell_type": "markdown",
   "id": "ca906d27",
   "metadata": {},
   "source": [
    "# Introduction\n",
    "The goal of this project is to introduce datasets and test our skills using 219 years of socioeconomic data. "
   ]
  },
  {
   "cell_type": "code",
   "execution_count": 1,
   "id": "b2ff1a3a",
   "metadata": {},
   "outputs": [
    {
     "data": {
      "text/html": [
       "<div>\n",
       "<style scoped>\n",
       "    .dataframe tbody tr th:only-of-type {\n",
       "        vertical-align: middle;\n",
       "    }\n",
       "\n",
       "    .dataframe tbody tr th {\n",
       "        vertical-align: top;\n",
       "    }\n",
       "\n",
       "    .dataframe thead th {\n",
       "        text-align: right;\n",
       "    }\n",
       "</style>\n",
       "<table border=\"1\" class=\"dataframe\">\n",
       "  <thead>\n",
       "    <tr style=\"text-align: right;\">\n",
       "      <th></th>\n",
       "      <th>country</th>\n",
       "      <th>year</th>\n",
       "      <th>continent</th>\n",
       "      <th>population</th>\n",
       "      <th>life_exp</th>\n",
       "      <th>gdp_per_cap</th>\n",
       "      <th>gini</th>\n",
       "    </tr>\n",
       "  </thead>\n",
       "  <tbody>\n",
       "    <tr>\n",
       "      <th>0</th>\n",
       "      <td>Afghanistan</td>\n",
       "      <td>1800</td>\n",
       "      <td>asia</td>\n",
       "      <td>3280000</td>\n",
       "      <td>28.2</td>\n",
       "      <td>603</td>\n",
       "      <td>30.5</td>\n",
       "    </tr>\n",
       "    <tr>\n",
       "      <th>1</th>\n",
       "      <td>Albania</td>\n",
       "      <td>1800</td>\n",
       "      <td>europe</td>\n",
       "      <td>410000</td>\n",
       "      <td>35.4</td>\n",
       "      <td>667</td>\n",
       "      <td>38.9</td>\n",
       "    </tr>\n",
       "    <tr>\n",
       "      <th>2</th>\n",
       "      <td>Algeria</td>\n",
       "      <td>1800</td>\n",
       "      <td>africa</td>\n",
       "      <td>2500000</td>\n",
       "      <td>28.8</td>\n",
       "      <td>715</td>\n",
       "      <td>56.2</td>\n",
       "    </tr>\n",
       "    <tr>\n",
       "      <th>3</th>\n",
       "      <td>Angola</td>\n",
       "      <td>1800</td>\n",
       "      <td>africa</td>\n",
       "      <td>1570000</td>\n",
       "      <td>27.0</td>\n",
       "      <td>618</td>\n",
       "      <td>57.2</td>\n",
       "    </tr>\n",
       "    <tr>\n",
       "      <th>4</th>\n",
       "      <td>Antigua and Barbuda</td>\n",
       "      <td>1800</td>\n",
       "      <td>americas</td>\n",
       "      <td>37000</td>\n",
       "      <td>33.5</td>\n",
       "      <td>757</td>\n",
       "      <td>40.0</td>\n",
       "    </tr>\n",
       "    <tr>\n",
       "      <th>5</th>\n",
       "      <td>Argentina</td>\n",
       "      <td>1800</td>\n",
       "      <td>americas</td>\n",
       "      <td>534000</td>\n",
       "      <td>33.2</td>\n",
       "      <td>1510</td>\n",
       "      <td>47.7</td>\n",
       "    </tr>\n",
       "    <tr>\n",
       "      <th>6</th>\n",
       "      <td>Armenia</td>\n",
       "      <td>1800</td>\n",
       "      <td>europe</td>\n",
       "      <td>413000</td>\n",
       "      <td>34.0</td>\n",
       "      <td>514</td>\n",
       "      <td>31.5</td>\n",
       "    </tr>\n",
       "    <tr>\n",
       "      <th>7</th>\n",
       "      <td>Australia</td>\n",
       "      <td>1800</td>\n",
       "      <td>asia</td>\n",
       "      <td>351000</td>\n",
       "      <td>34.0</td>\n",
       "      <td>814</td>\n",
       "      <td>38.7</td>\n",
       "    </tr>\n",
       "    <tr>\n",
       "      <th>8</th>\n",
       "      <td>Austria</td>\n",
       "      <td>1800</td>\n",
       "      <td>europe</td>\n",
       "      <td>3210000</td>\n",
       "      <td>34.4</td>\n",
       "      <td>1850</td>\n",
       "      <td>33.4</td>\n",
       "    </tr>\n",
       "    <tr>\n",
       "      <th>9</th>\n",
       "      <td>Azerbaijan</td>\n",
       "      <td>1800</td>\n",
       "      <td>europe</td>\n",
       "      <td>880000</td>\n",
       "      <td>29.2</td>\n",
       "      <td>775</td>\n",
       "      <td>70.5</td>\n",
       "    </tr>\n",
       "  </tbody>\n",
       "</table>\n",
       "</div>"
      ],
      "text/plain": [
       "               country  year continent  population  life_exp  gdp_per_cap  \\\n",
       "0          Afghanistan  1800      asia     3280000      28.2          603   \n",
       "1              Albania  1800    europe      410000      35.4          667   \n",
       "2              Algeria  1800    africa     2500000      28.8          715   \n",
       "3               Angola  1800    africa     1570000      27.0          618   \n",
       "4  Antigua and Barbuda  1800  americas       37000      33.5          757   \n",
       "5            Argentina  1800  americas      534000      33.2         1510   \n",
       "6              Armenia  1800    europe      413000      34.0          514   \n",
       "7            Australia  1800      asia      351000      34.0          814   \n",
       "8              Austria  1800    europe     3210000      34.4         1850   \n",
       "9           Azerbaijan  1800    europe      880000      29.2          775   \n",
       "\n",
       "   gini  \n",
       "0  30.5  \n",
       "1  38.9  \n",
       "2  56.2  \n",
       "3  57.2  \n",
       "4  40.0  \n",
       "5  47.7  \n",
       "6  31.5  \n",
       "7  38.7  \n",
       "8  33.4  \n",
       "9  70.5  "
      ]
     },
     "execution_count": 1,
     "metadata": {},
     "output_type": "execute_result"
    }
   ],
   "source": [
    "import pandas as pd\n",
    "df = pd.read_csv('gapminder_data.txt', sep='\\t')\n",
    "df.head(10)"
   ]
  },
  {
   "cell_type": "code",
   "execution_count": 2,
   "id": "084a8a1f",
   "metadata": {},
   "outputs": [],
   "source": [
    "country = df.country.to_list()\n",
    "continent = df.continent.to_list()\n",
    "year = df.year.to_list()\n",
    "population = df.population.to_list()\n",
    "life_exp = df.life_exp.to_list()\n",
    "pcgdp = df.gdp_per_cap.to_list()\n",
    "gini = df.gini.to_list()"
   ]
  },
  {
   "cell_type": "code",
   "execution_count": 3,
   "id": "8b7aa939",
   "metadata": {},
   "outputs": [
    {
     "name": "stdout",
     "output_type": "stream",
     "text": [
      "Country:  Mongolia\n",
      "Continent:  asia\n",
      "Year:  1963\n",
      "Population:  1040000\n",
      "Life Expectancy:  50.3\n",
      "Per Capita GDP:  1340\n",
      "Gini Index:  32.0\n"
     ]
    }
   ],
   "source": [
    "N = 30100\n",
    "print('Country: ', country[N])\n",
    "print('Continent: ', continent[N])\n",
    "print('Year: ', year[N])\n",
    "print('Population: ', population[N])\n",
    "print('Life Expectancy: ', life_exp[N])\n",
    "print('Per Capita GDP: ', pcgdp[N])\n",
    "print('Gini Index: ', gini[N])"
   ]
  },
  {
   "cell_type": "markdown",
   "id": "15d8690d",
   "metadata": {},
   "source": [
    "# Part 1: Displaying Past 20 Years of US Data\n",
    "This section of the assignment tests our looping abilities in combination with conditional statements to output US data from the previous two decades."
   ]
  },
  {
   "cell_type": "code",
   "execution_count": 4,
   "id": "8b68c884",
   "metadata": {},
   "outputs": [
    {
     "name": "stdout",
     "output_type": "stream",
     "text": [
      "Year       Country       Population   LExp    pcGDP    Gini\n",
      "-----------------------------------------------------------\n",
      "1999    United States    279000000    76.8    44700    40.5\n",
      "2000    United States    282000000    76.9    46000    40.5\n",
      "2001    United States    285000000    77.0    46000    40.5\n",
      "2002    United States    288000000    77.1    46400    40.5\n",
      "2003    United States    290000000    77.3    47300    40.5\n",
      "2004    United States    293000000    77.5    48600    40.6\n",
      "2005    United States    295000000    77.7    49800    40.7\n",
      "2006    United States    298000000    77.9    50600    40.8\n",
      "2007    United States    301000000    78.1    51000    40.8\n",
      "2008    United States    303000000    78.3    50400    40.8\n",
      "2009    United States    306000000    78.6    48600    40.7\n",
      "2010    United States    309000000    78.7    49400    40.7\n",
      "2011    United States    311000000    78.8    49800    40.7\n",
      "2012    United States    313000000    78.9    50500    40.8\n",
      "2013    United States    316000000    78.9    51000    41.0\n",
      "2014    United States    318000000    78.9    51800    41.2\n",
      "2015    United States    320000000    78.8    52800    41.3\n",
      "2016    United States    322000000    78.8    53300    41.4\n",
      "2017    United States    324000000    79.0    54200    41.5\n",
      "2018    United States    327000000    79.1    54900    41.5\n"
     ]
    }
   ],
   "source": [
    "len_list = [len(country), len(continent), len(year), len(population), len(life_exp), len(pcgdp), len(gini)]\n",
    "\n",
    "print('Year       Country       Population   LExp    pcGDP    Gini')\n",
    "print('-----------------------------------------------------------')\n",
    "\n",
    "for i in range(0,max(len_list)):\n",
    "    if year[i] >= 1999:\n",
    "        if country[i] == 'United States':\n",
    "            print(f'{year[i]}    {country[i]}    {population[i]}    {life_exp[i]}    {pcgdp[i]}    {gini[i]}')"
   ]
  },
  {
   "cell_type": "markdown",
   "id": "96266c54",
   "metadata": {},
   "source": [
    "# Part 2: Selecting the 2018 Data\n",
    "This section of the assignment further tests looping with conditionals but also challenges us to use the append method to split the data from a single to multiple lists, each with their common theme."
   ]
  },
  {
   "cell_type": "code",
   "execution_count": 5,
   "id": "4fb232aa",
   "metadata": {},
   "outputs": [],
   "source": [
    "country_2018 = []\n",
    "population_2018 = []\n",
    "continent_2018 = []\n",
    "life_exp_2018 = []\n",
    "pcgdp_2018 = []\n",
    "gini_2018 = []\n",
    "\n",
    "for j in range(0,max(len_list)):\n",
    "    if year[j] == 2018:\n",
    "        country_2018.append(country[j])\n",
    "        population_2018.append(population[j])\n",
    "        continent_2018.append(continent[j])\n",
    "        life_exp_2018.append(life_exp[j])\n",
    "        pcgdp_2018.append(pcgdp[j])\n",
    "        gini_2018.append(gini[j])"
   ]
  },
  {
   "cell_type": "code",
   "execution_count": 6,
   "id": "177f115c",
   "metadata": {},
   "outputs": [
    {
     "name": "stdout",
     "output_type": "stream",
     "text": [
      "The global population in 2018 was 7595200200\n"
     ]
    }
   ],
   "source": [
    "global_population_2018 = sum(population_2018)\n",
    "print(f'The global population in 2018 was {global_population_2018}')"
   ]
  },
  {
   "cell_type": "markdown",
   "id": "aa6590aa",
   "metadata": {},
   "source": [
    "# Part 3: Identifying Countries with Largest and Smallest Populations\n",
    "This section of the assignment sees us sorting countries by population to find the largest and smallest 2018 populations, then outputing those conuntries. "
   ]
  },
  {
   "cell_type": "code",
   "execution_count": 7,
   "id": "8085898c",
   "metadata": {
    "scrolled": true
   },
   "outputs": [
    {
     "name": "stdout",
     "output_type": "stream",
     "text": [
      "Countries with the Largest Populations in 2018\n",
      "----------------------------------------------\n",
      "The population of Mexico in 2018 was 131000000\n",
      "The population of Russia in 2018 was 144000000\n",
      "The population of Bangladesh in 2018 was 166000000\n",
      "The population of Nigeria in 2018 was 196000000\n",
      "The population of Pakistan in 2018 was 201000000\n",
      "The population of Brazil in 2018 was 211000000\n",
      "The population of Indonesia in 2018 was 267000000\n",
      "The population of United States in 2018 was 327000000\n",
      "The population of India in 2018 was 1350000000\n",
      "The population of China in 2018 was 1420000000\n",
      "\n",
      " \n",
      "\n",
      "Countries with the Smallest Populations in 2018\n",
      "----------------------------------------------\n",
      "The population of Seychelles in 2018 was 95200\n",
      "The population of Antigua and Barbuda in 2018 was 103000\n",
      "The population of Micronesia, Fed. Sts. in 2018 was 106000\n",
      "The population of Grenada in 2018 was 108000\n",
      "The population of Tonga in 2018 was 109000\n",
      "The population of St. Vincent and the Grenadines in 2018 was 110000\n",
      "The population of Kiribati in 2018 was 118000\n",
      "The population of St. Lucia in 2018 was 180000\n",
      "The population of Samoa in 2018 was 198000\n"
     ]
    }
   ],
   "source": [
    "sorted_population_2018 = sorted(population_2018)\n",
    "\n",
    "print('Countries with the Largest Populations in 2018')\n",
    "print('----------------------------------------------')\n",
    "\n",
    "for k in range(-10,0):\n",
    "    kth_largest_pop = sorted_population_2018[k]\n",
    "    kth_pop_idx = population_2018.index(kth_largest_pop)\n",
    "    print(f'The population of {country[kth_pop_idx]} in 2018 was {population_2018[kth_pop_idx]}')\n",
    "   \n",
    "print('\\n \\n')\n",
    "print('Countries with the Smallest Populations in 2018')\n",
    "print('----------------------------------------------')\n",
    "\n",
    "for l in range(0,9):\n",
    "    lth_smallest_pop = sorted_population_2018[l]\n",
    "    lth_pop_idx = population_2018.index(lth_smallest_pop)\n",
    "    print(f'The population of {country[lth_pop_idx]} in 2018 was {population_2018[lth_pop_idx]}')"
   ]
  },
  {
   "cell_type": "markdown",
   "id": "8b8e2abe",
   "metadata": {},
   "source": [
    "# Part 4: Identifying Countries with Highest and Lowest Life Expectancies\n",
    "This section of the assignment sees us finding country names based on the dataset's numerous maximum and minimum life expectancies in the year 2018. "
   ]
  },
  {
   "cell_type": "markdown",
   "id": "56eb9e5c",
   "metadata": {},
   "source": [
    "if year == 2018\n",
    "    if country = 'United States'\n",
    "    print(population)"
   ]
  },
  {
   "cell_type": "code",
   "execution_count": 8,
   "id": "3618343f",
   "metadata": {},
   "outputs": [
    {
     "name": "stdout",
     "output_type": "stream",
     "text": [
      "Countries with Highest Life Expectancy in 2018\n",
      "------------------------------------------------------\n",
      "The life expantancy of Israel in 2018 was 82.4\n",
      "The life expantancy of Israel in 2018 was 82.4\n",
      "The life expantancy of France in 2018 was 82.6\n",
      "The life expantancy of France in 2018 was 82.6\n",
      "The life expantancy of France in 2018 was 82.6\n",
      "The life expantancy of Australia in 2018 was 82.9\n",
      "The life expantancy of Spain in 2018 was 83.2\n",
      "The life expantancy of Switzerland in 2018 was 83.5\n",
      "The life expantancy of Singapore in 2018 was 84.0\n",
      "The life expantancy of Japan in 2018 was 84.2\n",
      "\n",
      " \n",
      "\n",
      "Countries with the Lowest Life Expectancy in 2018\n",
      "----------------------------------------------\n",
      "The life expantancy of Lesotho in 2018 was 51.1\n",
      "The life expantancy of Central African Republic in 2018 was 51.6\n",
      "The life expantancy of Somalia in 2018 was 58.0\n",
      "The life expantancy of Swaziland in 2018 was 58.6\n",
      "The life expantancy of Afghanistan in 2018 was 58.7\n",
      "The life expantancy of Zambia in 2018 was 59.5\n",
      "The life expantancy of Guinea-Bissau in 2018 was 59.7\n",
      "The life expantancy of Sierra Leone in 2018 was 60.0\n",
      "The life expantancy of Zimbabwe in 2018 was 60.2\n"
     ]
    }
   ],
   "source": [
    "strd_lexp = sorted(life_exp_2018)\n",
    "print('Countries with Highest Life Expectancy in 2018')\n",
    "print('------------------------------------------------------')\n",
    "\n",
    "for m in range(-10,0):\n",
    "    mth_hi_lexp = strd_lexp[m]\n",
    "    mth_lexp_idx = life_exp_2018.index(mth_hi_lexp)\n",
    "    print(f'The life expantancy of {country[mth_lexp_idx]} in 2018 was {life_exp_2018[mth_lexp_idx]}')\n",
    "   \n",
    "print('\\n \\n')\n",
    "print('Countries with the Lowest Life Expectancy in 2018')\n",
    "print('----------------------------------------------')\n",
    "\n",
    "for n in range(0,9):\n",
    "    nth_lo_lexp = strd_lexp[n]\n",
    "    nth_lexp_idx = life_exp_2018.index(nth_lo_lexp)\n",
    "    print(f'The life expantancy of {country[nth_lexp_idx]} in 2018 was {life_exp_2018[nth_lexp_idx]}')      \n",
    "      "
   ]
  },
  {
   "cell_type": "markdown",
   "id": "43c651e3",
   "metadata": {},
   "source": [
    "# Part 5: Calculating GDP by Country\n",
    "This section of the assignment tests our arithmetic skills in combination with looping through lists by asking for each countries total GDP as well as the global GDP"
   ]
  },
  {
   "cell_type": "code",
   "execution_count": 9,
   "id": "8ddf689f",
   "metadata": {},
   "outputs": [
    {
     "name": "stdout",
     "output_type": "stream",
     "text": [
      "The total global GDP in 2018 was $118225647770000\n",
      "The country with the highest GDP in 2018 was China with a GDP of $22720000000000.\n",
      "The country with the lowest GDP in 2018 was Kiribati with a GDP of $223020000.\n"
     ]
    }
   ],
   "source": [
    "gdp_2018 = []\n",
    "\n",
    "for o in range(0,max(len(pcgdp_2018), len(population_2018))):\n",
    "    gdp_2018.append(pcgdp_2018[o] * population_2018[o])\n",
    "print(f'The total global GDP in 2018 was ${sum(gdp_2018)}')\n",
    "min_gdp = min(gdp_2018)\n",
    "max_gdp = max(gdp_2018)\n",
    "\n",
    "print(f'The country with the highest GDP in 2018 was {country[gdp_2018.index(max_gdp)]} with a GDP of ${max_gdp}.\\n'\\\n",
    "f'The country with the lowest GDP in 2018 was {country[gdp_2018.index(min_gdp)]} with a GDP of ${min_gdp}.')"
   ]
  },
  {
   "cell_type": "markdown",
   "id": "9814dd02",
   "metadata": {},
   "source": [
    "# Part 6: Grouping by Continent\n",
    "The last part of the assignment reinforces all of the previous concepts; looping, indexing, and arithmetic; to group the 4 regions/continents data and find their respetive GDP, life expectancy, and total population."
   ]
  },
  {
   "cell_type": "code",
   "execution_count": 10,
   "id": "3ffc0104",
   "metadata": {},
   "outputs": [
    {
     "name": "stdout",
     "output_type": "stream",
     "text": [
      "[4700.0, 28708.0, 12705.0, 31534.0]\n",
      "[1287150200, 1010978000, 4455113000, 841959000]\n",
      "[65.9, 77.5, 73.2, 78.4]\n",
      "Continent    Population     pcGDP    Life Exp\n",
      "---------------------------------------------\n",
      "Africa       1287150200     4700.0        65.9\n",
      "Americas     1010978000     28708.0        77.5\n",
      "Asia         4455113000     12705.0        73.2\n",
      "Europe        841959000     31534.0        78.4\n"
     ]
    }
   ],
   "source": [
    "continent_names = ['africa', 'americas', 'asia', 'europe']\n",
    "pcgdp_2018_by_continent = []\n",
    "pop_2018_by_continent = []\n",
    "life_exp_2018_by_continent = []\n",
    "\n",
    "for cont in range(0,len(continent_names)):\n",
    "    temp_life_exp = 0\n",
    "    temp_pop = 0\n",
    "    temp_gdp = 0\n",
    "    for p in range(0,len(country_2018)):\n",
    "        if continent_2018[p] == continent_names[cont]:\n",
    "            temp_life_exp += life_exp_2018[p] * population_2018[p]\n",
    "            temp_pop += population_2018[p]\n",
    "            temp_gdp += pcgdp_2018[p] * population_2018[p]\n",
    "    temp_life_exp /= temp_pop\n",
    "    temp_gdp /= temp_pop\n",
    "    temp_life_exp = round(temp_life_exp,1)\n",
    "    temp_gdp = round(temp_gdp,0)\n",
    "    pcgdp_2018_by_continent.append(temp_gdp) \n",
    "    pop_2018_by_continent.append(temp_pop)\n",
    "    life_exp_2018_by_continent.append(temp_life_exp)\n",
    "#print(f'{pcgdp_2018_by_continent}')\n",
    "#print(f'{pop_2018_by_continent}')\n",
    "#print(f'{life_exp_2018_by_continent}')   #these three lines were my output. Docked points becuase I forgot the below formatting\n",
    "\n",
    "print('Continent    Population     pcGDP    Life Exp')\n",
    "print('---------------------------------------------')\n",
    "\n",
    "for i in range(0, len(continent_names)):\n",
    "    print(f'{continent_names[i].capitalize() : <12} {pop_2018_by_continent[i] : >10} \\\n",
    "    {pcgdp_2018_by_continent[i] : >5} {life_exp_2018_by_continent[i] : >11}')"
   ]
  }
 ],
 "metadata": {
  "kernelspec": {
   "display_name": "Python 3 (ipykernel)",
   "language": "python",
   "name": "python3"
  },
  "language_info": {
   "codemirror_mode": {
    "name": "ipython",
    "version": 3
   },
   "file_extension": ".py",
   "mimetype": "text/x-python",
   "name": "python",
   "nbconvert_exporter": "python",
   "pygments_lexer": "ipython3",
   "version": "3.9.7"
  }
 },
 "nbformat": 4,
 "nbformat_minor": 5
}
