{
 "cells": [
  {
   "cell_type": "code",
   "execution_count": 1,
   "id": "1727675b",
   "metadata": {},
   "outputs": [],
   "source": [
    "w1=\"pots\"\n",
    "w2=\"stop\"\n",
    "# print(\"lkjadsf\")\n",
    "def is_reverse(w1, w2):\n",
    "    if len(w1) != len(w2):\n",
    "        return False\n",
    "    \n",
    "    i = 0\n",
    "    j = len(w2)-1\n",
    "\n",
    "    while j >= 0:\n",
    "        if w1[i] != w2[j]:\n",
    "            return False\n",
    "        print(i,j)\n",
    "        # print(j)\n",
    "        i = i+1\n",
    "        j = j-1\n",
    "\n",
    "    return True\n",
    "    "
   ]
  },
  {
   "cell_type": "code",
   "execution_count": 2,
   "id": "b400318d",
   "metadata": {},
   "outputs": [
    {
     "name": "stdout",
     "output_type": "stream",
     "text": [
      "0 3\n",
      "1 2\n",
      "2 1\n",
      "3 0\n"
     ]
    },
    {
     "data": {
      "text/plain": [
       "True"
      ]
     },
     "execution_count": 2,
     "metadata": {},
     "output_type": "execute_result"
    }
   ],
   "source": [
    "is_reverse(w1,w2)"
   ]
  }
 ],
 "metadata": {
  "kernelspec": {
   "display_name": "Python 3 (ipykernel)",
   "language": "python",
   "name": "python3"
  },
  "language_info": {
   "codemirror_mode": {
    "name": "ipython",
    "version": 3
   },
   "file_extension": ".py",
   "mimetype": "text/x-python",
   "name": "python",
   "nbconvert_exporter": "python",
   "pygments_lexer": "ipython3",
   "version": "3.9.7"
  }
 },
 "nbformat": 4,
 "nbformat_minor": 5
}
