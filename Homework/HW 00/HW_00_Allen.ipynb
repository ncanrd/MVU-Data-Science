{
 "cells": [
  {
   "cell_type": "markdown",
   "id": "9d655d4d",
   "metadata": {},
   "source": [
    "## DSCI 503 - Homework 00\n",
    "\n",
    "**Nicholas Allen**\n",
    "\n",
    "Due Wednesday, January 12, 2022"
   ]
  },
  {
   "cell_type": "markdown",
   "id": "864796fe",
   "metadata": {},
   "source": [
    "### Part 1: Arithmetic Operations\n",
    "\n",
    "In this portion of the assignment, we will demonstrate the following concepts\n",
    "* Addition\n",
    "* Subtraction\n",
    "* Multiplication\n",
    "* Division\n",
    "* Exponentiation"
   ]
  },
  {
   "cell_type": "code",
   "execution_count": 1,
   "id": "18542b0a",
   "metadata": {},
   "outputs": [
    {
     "name": "stdout",
     "output_type": "stream",
     "text": [
      "9\n"
     ]
    }
   ],
   "source": [
    "print(7+2)"
   ]
  },
  {
   "cell_type": "code",
   "execution_count": 2,
   "id": "a2eb6da6",
   "metadata": {},
   "outputs": [
    {
     "name": "stdout",
     "output_type": "stream",
     "text": [
      "5\n"
     ]
    }
   ],
   "source": [
    "print(7-2)"
   ]
  },
  {
   "cell_type": "code",
   "execution_count": 3,
   "id": "2f22ecaa",
   "metadata": {},
   "outputs": [
    {
     "name": "stdout",
     "output_type": "stream",
     "text": [
      "14\n"
     ]
    }
   ],
   "source": [
    "print(7*2)"
   ]
  },
  {
   "cell_type": "code",
   "execution_count": 4,
   "id": "662f1cba",
   "metadata": {},
   "outputs": [
    {
     "name": "stdout",
     "output_type": "stream",
     "text": [
      "3.5\n"
     ]
    }
   ],
   "source": [
    "print(7/2)"
   ]
  },
  {
   "cell_type": "code",
   "execution_count": 5,
   "id": "d9ad6e9d",
   "metadata": {},
   "outputs": [
    {
     "name": "stdout",
     "output_type": "stream",
     "text": [
      "49\n"
     ]
    }
   ],
   "source": [
    "print(7**2)"
   ]
  },
  {
   "cell_type": "markdown",
   "id": "f309d7ae",
   "metadata": {},
   "source": [
    "### Part2: Variables\n",
    "\n",
    "In this section of the assignment we will demonstrate the following concepts:\n",
    "\n",
    "* Creating Variables\n",
    "* Printing the value of variables\n",
    "* Opeations with variables\n",
    "* Non-linear execution in notebooks"
   ]
  },
  {
   "cell_type": "code",
   "execution_count": 6,
   "id": "c9b35476",
   "metadata": {},
   "outputs": [],
   "source": [
    "x = 91"
   ]
  },
  {
   "cell_type": "code",
   "execution_count": 7,
   "id": "37d90183",
   "metadata": {},
   "outputs": [],
   "source": [
    "x = 42"
   ]
  },
  {
   "cell_type": "code",
   "execution_count": 8,
   "id": "65c819bb",
   "metadata": {},
   "outputs": [
    {
     "name": "stdout",
     "output_type": "stream",
     "text": [
      "42\n"
     ]
    }
   ],
   "source": [
    "print(x)"
   ]
  },
  {
   "cell_type": "code",
   "execution_count": 9,
   "id": "1edc7867",
   "metadata": {},
   "outputs": [],
   "source": [
    "y = 7"
   ]
  },
  {
   "cell_type": "code",
   "execution_count": 10,
   "id": "2d1d3e2c",
   "metadata": {},
   "outputs": [
    {
     "name": "stdout",
     "output_type": "stream",
     "text": [
      "7\n"
     ]
    }
   ],
   "source": [
    "print(y)"
   ]
  },
  {
   "cell_type": "code",
   "execution_count": 11,
   "id": "b34d540b",
   "metadata": {
    "scrolled": false
   },
   "outputs": [
    {
     "name": "stdout",
     "output_type": "stream",
     "text": [
      "6.0\n"
     ]
    }
   ],
   "source": [
    "print(x / y)"
   ]
  },
  {
   "cell_type": "markdown",
   "id": "a5b0661d",
   "metadata": {},
   "source": [
    "### Part 3 Comments\n",
    "\n",
    "In this section of the assignment we will demonstrate the following concepts:\n",
    "\n",
    "* Writing Comments\n",
    "* Using comments to document code\n",
    "* USing comments to disable lines of code"
   ]
  },
  {
   "cell_type": "code",
   "execution_count": 12,
   "id": "5cffb3c9",
   "metadata": {},
   "outputs": [
    {
     "name": "stdout",
     "output_type": "stream",
     "text": [
      "7\n"
     ]
    }
   ],
   "source": [
    "# This is a comment\n",
    "print(2 + 5)"
   ]
  },
  {
   "cell_type": "code",
   "execution_count": 13,
   "id": "6589f095",
   "metadata": {},
   "outputs": [
    {
     "name": "stdout",
     "output_type": "stream",
     "text": [
      "2937.54\n"
     ]
    }
   ],
   "source": [
    "# In this cell we will calculate sales revenue\n",
    "sales = 173                # monthly widget sales\n",
    "price = 16.98              # price per widget\n",
    "revenue = sales * price    # monthly revenue\n",
    "print(revenue)"
   ]
  },
  {
   "cell_type": "code",
   "execution_count": 14,
   "id": "72b4e9ed",
   "metadata": {},
   "outputs": [
    {
     "name": "stdout",
     "output_type": "stream",
     "text": [
      "2.0\n",
      "3.0\n"
     ]
    }
   ],
   "source": [
    "print(12 / 6)\n",
    "# print(12 / 0)\n",
    "print(12 / 4)"
   ]
  },
  {
   "cell_type": "markdown",
   "id": "87c665a9",
   "metadata": {},
   "source": [
    "### Part 4: Strings\n",
    "\n",
    "In this section of the assignment we will demonstrate the following concepts:\n",
    "\n",
    "* Creating strings\n",
    "* Sotring strings in variables\n",
    "* Printing multiple items"
   ]
  },
  {
   "cell_type": "code",
   "execution_count": 15,
   "id": "f8cfbb3a",
   "metadata": {},
   "outputs": [
    {
     "name": "stdout",
     "output_type": "stream",
     "text": [
      "Hello, World!\n"
     ]
    }
   ],
   "source": [
    "print(\"Hello, World!\")"
   ]
  },
  {
   "cell_type": "code",
   "execution_count": 16,
   "id": "e503db71",
   "metadata": {},
   "outputs": [
    {
     "name": "stdout",
     "output_type": "stream",
     "text": [
      "Nicholas Allen\n"
     ]
    }
   ],
   "source": [
    "name = \"Nicholas Allen\"\n",
    "print(name)"
   ]
  },
  {
   "cell_type": "code",
   "execution_count": 17,
   "id": "ea0cf282",
   "metadata": {},
   "outputs": [
    {
     "name": "stdout",
     "output_type": "stream",
     "text": [
      "Hellow, my name is Nicholas Allen.\n"
     ]
    }
   ],
   "source": [
    "print(\"Hellow, my name is \", name, \".\", sep=\"\")"
   ]
  }
 ],
 "metadata": {
  "kernelspec": {
   "display_name": "Python 3 (ipykernel)",
   "language": "python",
   "name": "python3"
  },
  "language_info": {
   "codemirror_mode": {
    "name": "ipython",
    "version": 3
   },
   "file_extension": ".py",
   "mimetype": "text/x-python",
   "name": "python",
   "nbconvert_exporter": "python",
   "pygments_lexer": "ipython3",
   "version": "3.9.7"
  }
 },
 "nbformat": 4,
 "nbformat_minor": 5
}
