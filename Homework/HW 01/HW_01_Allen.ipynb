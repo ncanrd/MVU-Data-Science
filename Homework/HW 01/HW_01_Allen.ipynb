{
 "cells": [
  {
   "cell_type": "markdown",
   "id": "8a3944f1",
   "metadata": {},
   "source": [
    "# DSCI 503 - Homework 01\n",
    "\n",
    "### Nicholas Allen\n",
    "\n",
    " Due Sunday, January 16, 2022"
   ]
  },
  {
   "cell_type": "markdown",
   "id": "cd2258be",
   "metadata": {},
   "source": [
    "## Problem 1: Arithmetic and Geometric Means"
   ]
  },
  {
   "cell_type": "code",
   "execution_count": 1,
   "id": "291ea860",
   "metadata": {},
   "outputs": [
    {
     "name": "stdout",
     "output_type": "stream",
     "text": [
      "sum:\t\t\t59     \n",
      "Product:\t\t42636  \n",
      "Arithmetic Mean:\t14.75  \n",
      "Geometric Mean:\t\t14.37  \n"
     ]
    }
   ],
   "source": [
    "x0 = 11\n",
    "x1 = 12\n",
    "x2 = 17\n",
    "x3 = 19\n",
    "\n",
    "total = x0 + x1 + x2 + x3\n",
    "\n",
    "product = x0 * x1 * x2 * x3\n",
    "\n",
    "arith_mean = total / 4\n",
    "\n",
    "geo_mean = product ** (1 / 4)\n",
    "\n",
    "print(f'sum:\\t\\t\\t{total:<7}\\nProduct:\\t\\t{product:<7}\\nArithmetic Mean:\\t{round(arith_mean,2):<7}\\nGeometric Mean:\\t\\t{round(geo_mean,2):<7}')\n",
    "\n"
   ]
  },
  {
   "cell_type": "markdown",
   "id": "09db6895",
   "metadata": {},
   "source": [
    "## Problem 2: Calculating Bill"
   ]
  },
  {
   "cell_type": "code",
   "execution_count": 2,
   "id": "deec4883",
   "metadata": {
    "scrolled": true
   },
   "outputs": [
    {
     "name": "stdout",
     "output_type": "stream",
     "text": [
      "2 Side Salads:   $7.90\n",
      "2 Hamburgers:   $17.90\n",
      "2 Diet Sodas:    $5.00\n",
      "----------------------\n",
      "Subtotal:       $30.80\n",
      "Tax (4.75%):     $1.46\n",
      "Tip (15%):       $4.62\n",
      "----------------------\n",
      "Total Charge:   $36.88\n"
     ]
    }
   ],
   "source": [
    "ss_cost = 2 * 3.95\n",
    "hb_cost = 2 * 8.95\n",
    "ds_cost = 2 * 2.50\n",
    "subtotal = ss_cost + hb_cost + ds_cost\n",
    "tax = round(subtotal * .0475, 2)\n",
    "tip = round(subtotal * 0.15, 2)\n",
    "total_charge = subtotal + tax + tip\n",
    "ss_str = '$' + \"{:.2f}\".format(ss_cost)           #Interested if there is more efficient way to\n",
    "hb_str = '$' + \"{:.2f}\".format(hb_cost)           #append dollar sign directly next to numbers\n",
    "ds_str = '$' + \"{:.2f}\".format(ds_cost)           #without type coercion and string concatenation?\n",
    "sub_str = '$' + \"{:.2f}\".format(round(subtotal,2))\n",
    "tax_str = '$' + \"{:.2f}\".format(tax)              #Also, is there a better way to display 2 decimals \n",
    "tip_str = '$' + \"{:.2f}\".format(tip)              #instead of requireing a string type?\n",
    "tot_str = '$' + \"{:.2f}\".format(round(total_charge,2))\n",
    "print(f'2 Side Salads:{ss_str:>8}\\n\\\n",
    "2 Hamburgers:{hb_str:>9}\\n\\\n",
    "2 Diet Sodas:{ds_str:>9}\\n'+\"-\"*22)\n",
    "print(f'Subtotal:{sub_str:>13}\\n\\\n",
    "Tax (4.75%):{tax_str:>10}\\n\\\n",
    "Tip (15%):{tip_str:>12}\\n\\\n",
    "'+\"-\"*22)\n",
    "print(f'Total Charge:{tot_str:>9}')"
   ]
  },
  {
   "cell_type": "markdown",
   "id": "d860266d",
   "metadata": {},
   "source": [
    "## Problem 3: Volume of a Sphere"
   ]
  },
  {
   "cell_type": "code",
   "execution_count": 3,
   "id": "4b8482a7",
   "metadata": {},
   "outputs": [
    {
     "name": "stdout",
     "output_type": "stream",
     "text": [
      "The voume of a sphere with radius 4.6 is equal to 407.72\n",
      "The voume of a sphere with radius 7.2 is equal to 1563.456\n",
      "The voume of a sphere with radius 9.7 is equal to 3822.992\n"
     ]
    }
   ],
   "source": [
    "pi = 3.14159\n",
    "r1 = 4.6\n",
    "r2 = 7.2\n",
    "r3 = 9.7\n",
    "v1 = (4/3) * pi * r1 ** 3      #changed exponent to 3. I think HW has a typo\n",
    "v2 = (4/3) * pi * r2 ** 3\n",
    "v3 = (4/3) * pi * r3 ** 3\n",
    "print(f'The voume of a sphere with radius {r1} is equal to {round(v1,3)}')\n",
    "print(f'The voume of a sphere with radius {r2} is equal to {round(v2,3)}')\n",
    "print(f'The voume of a sphere with radius {r3} is equal to {round(v3,3)}')"
   ]
  },
  {
   "cell_type": "markdown",
   "id": "34028257",
   "metadata": {},
   "source": [
    "## Problem 4: Simple Interes"
   ]
  },
  {
   "cell_type": "code",
   "execution_count": 4,
   "id": "f3fc353c",
   "metadata": {},
   "outputs": [
    {
     "name": "stdout",
     "output_type": "stream",
     "text": [
      "Amound repaid: $225.75\n"
     ]
    }
   ],
   "source": [
    "P = 210\n",
    "i = 0.09\n",
    "t = 10 / 12\n",
    "A = P * (1 + i * t)\n",
    "print(f'Amound repaid: ${A:.2f}')"
   ]
  },
  {
   "cell_type": "markdown",
   "id": "9babcf93",
   "metadata": {},
   "source": [
    "## Problem 5: Compound Interest"
   ]
  },
  {
   "cell_type": "code",
   "execution_count": 5,
   "id": "d3a4dddf",
   "metadata": {},
   "outputs": [
    {
     "name": "stdout",
     "output_type": "stream",
     "text": [
      "Amound repaid: $463.05\n"
     ]
    }
   ],
   "source": [
    "P = 400\n",
    "i = 0.05\n",
    "t = 3\n",
    "A = round(P * (1 + i) ** t,2)\n",
    "print(f'Amound repaid: ${A}')"
   ]
  },
  {
   "cell_type": "markdown",
   "id": "aff70829",
   "metadata": {},
   "source": [
    "## Problem 6 : Annuity"
   ]
  },
  {
   "cell_type": "code",
   "execution_count": 6,
   "id": "facfb480",
   "metadata": {},
   "outputs": [
    {
     "name": "stdout",
     "output_type": "stream",
     "text": [
      "Balance after 18 years: $51290.83\n"
     ]
    }
   ],
   "source": [
    "PMT = 2000\n",
    "i = 0.04\n",
    "n = 18\n",
    "A = round(PMT * (((1 + i) ** n - 1) / i), 2)\n",
    "print(f'Balance after {n} years: ${A}')"
   ]
  },
  {
   "cell_type": "markdown",
   "id": "28b18f21",
   "metadata": {},
   "source": [
    "## Problem 7 : Probability"
   ]
  },
  {
   "cell_type": "code",
   "execution_count": 7,
   "id": "0996cde8",
   "metadata": {},
   "outputs": [
    {
     "name": "stdout",
     "output_type": "stream",
     "text": [
      "Probability that both people are late:         0.18 \n",
      "Probability that at least one person is late:  0.72 \n"
     ]
    }
   ],
   "source": [
    "prob_A = 0.6\n",
    "prob_B = 0.3\n",
    "prob_A_and_B = prob_A * prob_B\n",
    "prob_A_or_B = prob_A + prob_B - prob_A_and_B\n",
    "count = len('Probability that at least one person is late:') + 1\n",
    "print(f\"{'Probability that both people are late:':<{count}} {prob_A_and_B : <5}\\n\\\n",
    "{'Probability that at least one person is late:':<{count}} {prob_A_or_B:<5}\")"
   ]
  },
  {
   "cell_type": "markdown",
   "id": "ea627b0b",
   "metadata": {},
   "source": [
    "## Problem 8: Constructing an Output Message"
   ]
  },
  {
   "cell_type": "code",
   "execution_count": 8,
   "id": "6c750750",
   "metadata": {},
   "outputs": [
    {
     "name": "stdout",
     "output_type": "stream",
     "text": [
      "First Name: Nick      \n",
      "Last Name:  Allen     \n",
      "Student ID: 1026609   \n"
     ]
    }
   ],
   "source": [
    "first = 'Nick'\n",
    "last = 'Allen'\n",
    "sid = 1026609\n",
    "print(f'First Name: {first:<10}\\n\\\n",
    "Last Name:  {last:<10}\\n\\\n",
    "Student ID: {sid:<10}')"
   ]
  }
 ],
 "metadata": {
  "kernelspec": {
   "display_name": "Python 3 (ipykernel)",
   "language": "python",
   "name": "python3"
  },
  "language_info": {
   "codemirror_mode": {
    "name": "ipython",
    "version": 3
   },
   "file_extension": ".py",
   "mimetype": "text/x-python",
   "name": "python",
   "nbconvert_exporter": "python",
   "pygments_lexer": "ipython3",
   "version": "3.9.7"
  }
 },
 "nbformat": 4,
 "nbformat_minor": 5
}
