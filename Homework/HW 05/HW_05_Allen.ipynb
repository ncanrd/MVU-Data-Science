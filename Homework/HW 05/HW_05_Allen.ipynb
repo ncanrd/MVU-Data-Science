{
 "cells": [
  {
   "cell_type": "markdown",
   "id": "e996e1ee",
   "metadata": {},
   "source": [
    "# DSCI 503 - Homework 05\n",
    "### Nicholas Allen\n",
    "Due February 13, 2022"
   ]
  },
  {
   "cell_type": "code",
   "execution_count": 1,
   "id": "433f0d25",
   "metadata": {},
   "outputs": [],
   "source": [
    "import numpy as np, pandas as pd, matplotlib.pyplot as plt"
   ]
  },
  {
   "cell_type": "markdown",
   "id": "2aafcd9e",
   "metadata": {},
   "source": [
    "## Problem 1: Working with 2D Arrays"
   ]
  },
  {
   "cell_type": "code",
   "execution_count": 2,
   "id": "52f520b2",
   "metadata": {},
   "outputs": [
    {
     "name": "stdout",
     "output_type": "stream",
     "text": [
      "[[4.17 7.2  0.   3.02 1.47 0.92 1.86 3.46]\n",
      " [3.97 5.39 4.19 6.85 2.04 8.78 0.27 6.7 ]\n",
      " [4.17 5.59 1.4  1.98 8.01 9.68 3.13 6.92]\n",
      " [8.76 8.95 0.85 0.39 1.7  8.78 0.98 4.21]\n",
      " [9.58 5.33 6.92 3.16 6.87 8.35 0.18 7.5 ]]\n"
     ]
    }
   ],
   "source": [
    "np.random.seed(1)\n",
    "Z = np.array(np.random.uniform(low=0, high=10, size=40))\n",
    "Z = Z.reshape(5,8)\n",
    "Z = np.round(Z,2)\n",
    "print(Z)"
   ]
  },
  {
   "cell_type": "code",
   "execution_count": 3,
   "id": "c2eab810",
   "metadata": {},
   "outputs": [
    {
     "name": "stdout",
     "output_type": "stream",
     "text": [
      "Row 3:    [4.17 5.59 1.4  1.98 8.01 9.68 3.13 6.92]\n",
      "Column 6: [0.92 8.78 9.68 8.78 8.35]\n"
     ]
    }
   ],
   "source": [
    "print(f'Row 3:    {Z[2,:]}')\n",
    "print(f'Column 6: {Z[:,5]}')"
   ]
  },
  {
   "cell_type": "code",
   "execution_count": 4,
   "id": "05c9ff47",
   "metadata": {},
   "outputs": [
    {
     "name": "stdout",
     "output_type": "stream",
     "text": [
      "Row Sums:    [22.1  38.19 40.88 34.62 47.89]\n",
      "Column Sums: [30.65 32.46 13.36 15.4  20.09 36.51  6.42 28.79]\n",
      "Array Sum:   183.68\n"
     ]
    }
   ],
   "source": [
    "print(f'Row Sums:    {np.sum(Z, axis=1)}')\n",
    "print(f'Column Sums: {np.sum(Z, axis=0)}')\n",
    "print(f'Array Sum:   {np.sum(Z)}')"
   ]
  },
  {
   "cell_type": "markdown",
   "id": "3a58df28",
   "metadata": {},
   "source": [
    "## Problem 2: Reshaping and Stacking Arrays"
   ]
  },
  {
   "cell_type": "code",
   "execution_count": 5,
   "id": "9cf9d2f4",
   "metadata": {},
   "outputs": [
    {
     "name": "stdout",
     "output_type": "stream",
     "text": [
      "(1000, 4)\n"
     ]
    }
   ],
   "source": [
    "np.random.seed(167)\n",
    "x1 = np.array(np.random.normal(50,10,1000))\n",
    "x2 = np.array(np.random.normal(20,5,1000))\n",
    "x3 = np.array(np.random.normal(100,30,1000))\n",
    "x4 = np.array(np.random.normal(10,2,1000))\n",
    "x1 = x1.reshape(1000,1)\n",
    "x2 = x2.reshape(1000,1)\n",
    "x3 = x3.reshape(1000,1)\n",
    "x4 = x4.reshape(1000,1)\n",
    "X = np.hstack([x1, x2, x3, x4])\n",
    "X = np.round(X, 2)\n",
    "print(X.shape)"
   ]
  },
  {
   "cell_type": "code",
   "execution_count": 6,
   "id": "2eae7cdd",
   "metadata": {},
   "outputs": [
    {
     "name": "stdout",
     "output_type": "stream",
     "text": [
      "[[ 37.08  16.71 138.06   8.89]\n",
      " [ 41.32  19.91  99.61   9.86]\n",
      " [ 63.15  14.43  70.08  11.6 ]\n",
      " [ 50.03  12.71  95.05   8.47]\n",
      " [ 55.05  24.4   62.16   9.49]\n",
      " [ 59.24  25.68  64.57  12.84]]\n"
     ]
    }
   ],
   "source": [
    "print(X[:6,:])"
   ]
  },
  {
   "cell_type": "markdown",
   "id": "11563534",
   "metadata": {},
   "source": [
    "## Problem 3: Standardization"
   ]
  },
  {
   "cell_type": "code",
   "execution_count": 7,
   "id": "9e893129",
   "metadata": {},
   "outputs": [
    {
     "name": "stdout",
     "output_type": "stream",
     "text": [
      "Column means:               [50.21 19.86 99.84 10.06]\n",
      "Column standard deviations: [ 9.69  5.08 30.88  2.03]\n"
     ]
    }
   ],
   "source": [
    "c_means = np.mean(X, axis=0)\n",
    "c_std = np.std(X, axis=0)\n",
    "print(f'Column means:               {np.round(c_means,2)}')\n",
    "print(f'Column standard deviations: {np.round(c_std,2)}')"
   ]
  },
  {
   "cell_type": "code",
   "execution_count": 8,
   "id": "032bd397",
   "metadata": {},
   "outputs": [
    {
     "name": "stdout",
     "output_type": "stream",
     "text": [
      "Column means:               [ 0. -0. -0. -0.]\n",
      "Column standard deviations: [1. 1. 1. 1.]\n"
     ]
    }
   ],
   "source": [
    "W = (X - c_means) / c_std\n",
    "W_means = np.mean(W, axis=0)\n",
    "W_std = np.std(W, axis=0)\n",
    "print(f'Column means:               {np.round(W_means,2)}')\n",
    "print(f'Column standard deviations: {np.round(W_std,2)}')\n",
    "#I believe these are supposed to be very small numbers but is there a way to display in sceinteific notation?"
   ]
  },
  {
   "cell_type": "markdown",
   "id": "30679f5e",
   "metadata": {},
   "source": [
    "## Problem 4: Load Auto MPG Dataset"
   ]
  },
  {
   "cell_type": "code",
   "execution_count": 9,
   "id": "c824a805",
   "metadata": {},
   "outputs": [
    {
     "data": {
      "text/html": [
       "<div>\n",
       "<style scoped>\n",
       "    .dataframe tbody tr th:only-of-type {\n",
       "        vertical-align: middle;\n",
       "    }\n",
       "\n",
       "    .dataframe tbody tr th {\n",
       "        vertical-align: top;\n",
       "    }\n",
       "\n",
       "    .dataframe thead th {\n",
       "        text-align: right;\n",
       "    }\n",
       "</style>\n",
       "<table border=\"1\" class=\"dataframe\">\n",
       "  <thead>\n",
       "    <tr style=\"text-align: right;\">\n",
       "      <th></th>\n",
       "      <th>mpg</th>\n",
       "      <th>cyl</th>\n",
       "      <th>wt</th>\n",
       "      <th>region</th>\n",
       "      <th>model</th>\n",
       "    </tr>\n",
       "  </thead>\n",
       "  <tbody>\n",
       "    <tr>\n",
       "      <th>0</th>\n",
       "      <td>27.2</td>\n",
       "      <td>4</td>\n",
       "      <td>3190</td>\n",
       "      <td>eur</td>\n",
       "      <td>peugeot 504</td>\n",
       "    </tr>\n",
       "    <tr>\n",
       "      <th>1</th>\n",
       "      <td>32.8</td>\n",
       "      <td>4</td>\n",
       "      <td>1985</td>\n",
       "      <td>asia</td>\n",
       "      <td>mazda glc deluxe</td>\n",
       "    </tr>\n",
       "    <tr>\n",
       "      <th>2</th>\n",
       "      <td>18.1</td>\n",
       "      <td>6</td>\n",
       "      <td>3410</td>\n",
       "      <td>usa</td>\n",
       "      <td>amc concord d/l</td>\n",
       "    </tr>\n",
       "    <tr>\n",
       "      <th>3</th>\n",
       "      <td>17.5</td>\n",
       "      <td>8</td>\n",
       "      <td>4080</td>\n",
       "      <td>usa</td>\n",
       "      <td>dodge magnum xe</td>\n",
       "    </tr>\n",
       "    <tr>\n",
       "      <th>4</th>\n",
       "      <td>25.4</td>\n",
       "      <td>5</td>\n",
       "      <td>3530</td>\n",
       "      <td>eur</td>\n",
       "      <td>mercedes benz 300d</td>\n",
       "    </tr>\n",
       "    <tr>\n",
       "      <th>5</th>\n",
       "      <td>31.0</td>\n",
       "      <td>4</td>\n",
       "      <td>1773</td>\n",
       "      <td>asia</td>\n",
       "      <td>toyota corolla 1200</td>\n",
       "    </tr>\n",
       "    <tr>\n",
       "      <th>6</th>\n",
       "      <td>27.4</td>\n",
       "      <td>4</td>\n",
       "      <td>2670</td>\n",
       "      <td>usa</td>\n",
       "      <td>amc spirit dl</td>\n",
       "    </tr>\n",
       "    <tr>\n",
       "      <th>7</th>\n",
       "      <td>39.1</td>\n",
       "      <td>4</td>\n",
       "      <td>1755</td>\n",
       "      <td>asia</td>\n",
       "      <td>toyota starlet</td>\n",
       "    </tr>\n",
       "    <tr>\n",
       "      <th>8</th>\n",
       "      <td>34.3</td>\n",
       "      <td>4</td>\n",
       "      <td>2188</td>\n",
       "      <td>eur</td>\n",
       "      <td>audi 4000</td>\n",
       "    </tr>\n",
       "    <tr>\n",
       "      <th>9</th>\n",
       "      <td>30.0</td>\n",
       "      <td>4</td>\n",
       "      <td>2155</td>\n",
       "      <td>usa</td>\n",
       "      <td>buick opel isuzu deluxe</td>\n",
       "    </tr>\n",
       "  </tbody>\n",
       "</table>\n",
       "</div>"
      ],
      "text/plain": [
       "    mpg  cyl    wt region                    model\n",
       "0  27.2    4  3190    eur              peugeot 504\n",
       "1  32.8    4  1985   asia         mazda glc deluxe\n",
       "2  18.1    6  3410    usa          amc concord d/l\n",
       "3  17.5    8  4080    usa          dodge magnum xe\n",
       "4  25.4    5  3530    eur       mercedes benz 300d\n",
       "5  31.0    4  1773   asia      toyota corolla 1200\n",
       "6  27.4    4  2670    usa            amc spirit dl\n",
       "7  39.1    4  1755   asia           toyota starlet\n",
       "8  34.3    4  2188    eur                audi 4000\n",
       "9  30.0    4  2155    usa  buick opel isuzu deluxe"
      ]
     },
     "execution_count": 9,
     "metadata": {},
     "output_type": "execute_result"
    }
   ],
   "source": [
    "auto = pd.read_table('auto_mpg.txt')\n",
    "auto.head(10)"
   ]
  },
  {
   "cell_type": "code",
   "execution_count": 10,
   "id": "15050ea6",
   "metadata": {},
   "outputs": [
    {
     "name": "stdout",
     "output_type": "stream",
     "text": [
      "(398, 5)\n"
     ]
    }
   ],
   "source": [
    "print(auto.shape)"
   ]
  },
  {
   "cell_type": "code",
   "execution_count": 11,
   "id": "1932d23d",
   "metadata": {},
   "outputs": [
    {
     "name": "stderr",
     "output_type": "stream",
     "text": [
      "C:\\Users\\Nick\\AppData\\Local\\Temp/ipykernel_4732/2812584194.py:1: FutureWarning: Dropping of nuisance columns in DataFrame reductions (with 'numeric_only=None') is deprecated; in a future version this will raise TypeError.  Select only valid columns before calling the reduction.\n",
      "  auto.mean()\n"
     ]
    },
    {
     "data": {
      "text/plain": [
       "mpg      23.514573\n",
       "cyl       5.454774\n",
       "wt     2970.424623\n",
       "dtype: float64"
      ]
     },
     "execution_count": 11,
     "metadata": {},
     "output_type": "execute_result"
    }
   ],
   "source": [
    "auto.mean()\n",
    "#What does this warning mean? Am i supposed to provide an argument to .mean()"
   ]
  },
  {
   "cell_type": "markdown",
   "id": "8a214179",
   "metadata": {},
   "source": [
    "## Problem 5: Regional Counts and Means"
   ]
  },
  {
   "cell_type": "code",
   "execution_count": 12,
   "id": "27667547",
   "metadata": {},
   "outputs": [],
   "source": [
    "regions = np.unique(auto.iloc[:,3])"
   ]
  },
  {
   "cell_type": "code",
   "execution_count": 13,
   "id": "525e3489",
   "metadata": {},
   "outputs": [
    {
     "name": "stdout",
     "output_type": "stream",
     "text": [
      "Number of cars manufactured in Asia:   (79, 5)\n",
      "Number of cars manufactured in Europe: (70, 5)\n",
      "Number of cars manufactured in USA:    249\n"
     ]
    }
   ],
   "source": [
    "asia_auto = auto[auto.iloc[:,3] == regions[0]]\n",
    "eur_auto = auto[auto.iloc[:,3] == regions[1]]\n",
    "usa_auto = auto[auto.iloc[:,3] == regions[2]]\n",
    "print(f'Number of cars manufactured in Asia:   {asia_auto.shape}')\n",
    "print(f'Number of cars manufactured in Europe: {eur_auto.shape}')\n",
    "print(f'Number of cars manufactured in USA:    {len(usa_auto)}')"
   ]
  },
  {
   "cell_type": "code",
   "execution_count": 14,
   "id": "647a7b61",
   "metadata": {},
   "outputs": [
    {
     "data": {
      "text/html": [
       "<div>\n",
       "<style scoped>\n",
       "    .dataframe tbody tr th:only-of-type {\n",
       "        vertical-align: middle;\n",
       "    }\n",
       "\n",
       "    .dataframe tbody tr th {\n",
       "        vertical-align: top;\n",
       "    }\n",
       "\n",
       "    .dataframe thead th {\n",
       "        text-align: right;\n",
       "    }\n",
       "</style>\n",
       "<table border=\"1\" class=\"dataframe\">\n",
       "  <thead>\n",
       "    <tr style=\"text-align: right;\">\n",
       "      <th></th>\n",
       "      <th>mpg</th>\n",
       "      <th>cyl</th>\n",
       "      <th>wt</th>\n",
       "    </tr>\n",
       "    <tr>\n",
       "      <th>Region</th>\n",
       "      <th></th>\n",
       "      <th></th>\n",
       "      <th></th>\n",
       "    </tr>\n",
       "  </thead>\n",
       "  <tbody>\n",
       "    <tr>\n",
       "      <th>asia</th>\n",
       "      <td>30.450633</td>\n",
       "      <td>4.101266</td>\n",
       "      <td>2221.227848</td>\n",
       "    </tr>\n",
       "    <tr>\n",
       "      <th>eur</th>\n",
       "      <td>27.891429</td>\n",
       "      <td>4.157143</td>\n",
       "      <td>2423.3</td>\n",
       "    </tr>\n",
       "    <tr>\n",
       "      <th>usa</th>\n",
       "      <td>20.083534</td>\n",
       "      <td>6.248996</td>\n",
       "      <td>3361.931727</td>\n",
       "    </tr>\n",
       "  </tbody>\n",
       "</table>\n",
       "</div>"
      ],
      "text/plain": [
       "              mpg       cyl           wt\n",
       "Region                                  \n",
       "asia    30.450633  4.101266  2221.227848\n",
       "eur     27.891429  4.157143       2423.3\n",
       "usa     20.083534  6.248996  3361.931727"
      ]
     },
     "execution_count": 14,
     "metadata": {},
     "output_type": "execute_result"
    }
   ],
   "source": [
    "asia_means = np.array(auto[auto.iloc[:,3] == regions[0]][['mpg','cyl','wt']].mean())\n",
    "eur_means = np.array(auto[auto.iloc[:,3] == regions[1]][['mpg','cyl','wt']].mean())\n",
    "usa_means = np.array(auto[auto.iloc[:,3] == regions[2]][['mpg','cyl','wt']].mean())\n",
    "mean_df = (asia_means, eur_means, usa_means)\n",
    "mean_df = np.hstack([regions.reshape(3,1), mean_df])\n",
    "mean_df = pd.DataFrame(mean_df)\n",
    "mean_df.rename(columns={0: \"Region\", 1: \"mpg\", 2 : \"cyl\", 3: 'wt'}, inplace=True)\n",
    "mean_df.set_index('Region', inplace = True)\n",
    "mean_df\n",
    "#Likely not the most effcicent method. I would love feedback on alternate, quicker methods"
   ]
  },
  {
   "cell_type": "markdown",
   "id": "3b0d6052",
   "metadata": {},
   "source": [
    "## Problem 6: Average Weight and MPG by Region"
   ]
  },
  {
   "cell_type": "code",
   "execution_count": 15,
   "id": "4adb1c4c",
   "metadata": {},
   "outputs": [
    {
     "data": {
      "image/png": "[encoded data removed]",
      "text/plain": [
       "<Figure size 432x288 with 1 Axes>"
      ]
     },
     "metadata": {
      "needs_background": "light"
     },
     "output_type": "display_data"
    },
    {
     "data": {
      "image/png": "[encoded data removed]",
      "text/plain": [
       "<Figure size 576x288 with 1 Axes>"
      ]
     },
     "metadata": {
      "needs_background": "light"
     },
     "output_type": "display_data"
    },
    {
     "data": {
      "text/plain": [
       "<Figure size 576x288 with 0 Axes>"
      ]
     },
     "metadata": {},
     "output_type": "display_data"
    }
   ],
   "source": [
    "colors1 = ['orange', 'blue', 'green']\n",
    "plt.subplot(1,2,1)\n",
    "plt.bar(x=mean_df.index, height=mean_df.iloc[:,0], color=colors1, edgecolor='k')\n",
    "plt.xlabel('Region')\n",
    "plt.ylabel('Average MPG')\n",
    "plt.title(\"Average MPG by Region\")\n",
    "plt.figure(figsize=[8,4])\n",
    "\n",
    "plt.subplot(1,2,2)\n",
    "plt.bar(x=mean_df.index, height=mean_df.iloc[:,1], color=colors1, edgecolor='k')\n",
    "plt.xlabel('Region')\n",
    "plt.ylabel('Average Weight in Pounds')\n",
    "plt.title(\"Average Weight by Region\")\n",
    "plt.figure(figsize=[8,4])\n",
    "\n",
    "plt.tight_layout()\n",
    "plt.show()"
   ]
  },
  {
   "cell_type": "markdown",
   "id": "fe9559f2",
   "metadata": {},
   "source": [
    "## Problem 7: Relationship between Weight and Miles Per Gallon"
   ]
  },
  {
   "cell_type": "code",
   "execution_count": 16,
   "id": "19934847",
   "metadata": {
    "scrolled": true
   },
   "outputs": [
    {
     "data": {
      "image/png": "[encoded data removed]",
      "text/plain": [
       "<Figure size 432x288 with 3 Axes>"
      ]
     },
     "metadata": {
      "needs_background": "light"
     },
     "output_type": "display_data"
    }
   ],
   "source": [
    "for i in range(len(regions)):\n",
    "    plt.subplot(1,3,i+1)\n",
    "    plt.scatter(x=auto[auto.region == regions[i]].loc[:,'wt'], y=auto[auto.iloc[:,3] == regions[i]].loc[:,'mpg'], s=80, alpha=0.8,\n",
    "                color=colors1[i], edgecolor='black')\n",
    "    plt.xlim([1200,5000])\n",
    "    plt.ylim([0,50])\n",
    "    plt.xlabel('Weight in Pounds')\n",
    "    plt.ylabel('Miles Per Gallon')\n",
    "    plt.title(f'Weight vs MPG {regions[i].title()}')\n",
    "\n",
    "plt.tight_layout()\n",
    "plt.show()"
   ]
  },
  {
   "cell_type": "markdown",
   "id": "34b4d1f0",
   "metadata": {},
   "source": [
    "## Problem 8: Cylinder Distribution by Region"
   ]
  },
  {
   "cell_type": "code",
   "execution_count": 17,
   "id": "6cc39ec9",
   "metadata": {
    "scrolled": true
   },
   "outputs": [
    {
     "name": "stdout",
     "output_type": "stream",
     "text": [
      "[3 4 5 6 8]\n"
     ]
    }
   ],
   "source": [
    "cyl_values = np.unique(auto.iloc[:,1])\n",
    "print(cyl_values)"
   ]
  },
  {
   "cell_type": "code",
   "execution_count": 18,
   "id": "ad972755",
   "metadata": {},
   "outputs": [
    {
     "data": {
      "text/html": [
       "<div>\n",
       "<style scoped>\n",
       "    .dataframe tbody tr th:only-of-type {\n",
       "        vertical-align: middle;\n",
       "    }\n",
       "\n",
       "    .dataframe tbody tr th {\n",
       "        vertical-align: top;\n",
       "    }\n",
       "\n",
       "    .dataframe thead th {\n",
       "        text-align: right;\n",
       "    }\n",
       "</style>\n",
       "<table border=\"1\" class=\"dataframe\">\n",
       "  <thead>\n",
       "    <tr style=\"text-align: right;\">\n",
       "      <th>region</th>\n",
       "      <th>asia</th>\n",
       "      <th>eur</th>\n",
       "      <th>usa</th>\n",
       "    </tr>\n",
       "    <tr>\n",
       "      <th>cyl</th>\n",
       "      <th></th>\n",
       "      <th></th>\n",
       "      <th></th>\n",
       "    </tr>\n",
       "  </thead>\n",
       "  <tbody>\n",
       "    <tr>\n",
       "      <th>3</th>\n",
       "      <td>4</td>\n",
       "      <td>0</td>\n",
       "      <td>0</td>\n",
       "    </tr>\n",
       "    <tr>\n",
       "      <th>4</th>\n",
       "      <td>69</td>\n",
       "      <td>63</td>\n",
       "      <td>72</td>\n",
       "    </tr>\n",
       "    <tr>\n",
       "      <th>5</th>\n",
       "      <td>0</td>\n",
       "      <td>3</td>\n",
       "      <td>0</td>\n",
       "    </tr>\n",
       "    <tr>\n",
       "      <th>6</th>\n",
       "      <td>6</td>\n",
       "      <td>4</td>\n",
       "      <td>74</td>\n",
       "    </tr>\n",
       "    <tr>\n",
       "      <th>8</th>\n",
       "      <td>0</td>\n",
       "      <td>0</td>\n",
       "      <td>103</td>\n",
       "    </tr>\n",
       "  </tbody>\n",
       "</table>\n",
       "</div>"
      ],
      "text/plain": [
       "region  asia  eur  usa\n",
       "cyl                   \n",
       "3          4    0    0\n",
       "4         69   63   72\n",
       "5          0    3    0\n",
       "6          6    4   74\n",
       "8          0    0  103"
      ]
     },
     "execution_count": 18,
     "metadata": {},
     "output_type": "execute_result"
    }
   ],
   "source": [
    "cyl_counts_by_region = pd.crosstab(auto.loc[:,'cyl'],auto.loc[:,'region'] )\n",
    "cyl_counts_by_region"
   ]
  },
  {
   "cell_type": "code",
   "execution_count": 21,
   "id": "eedf75d5",
   "metadata": {
    "scrolled": true
   },
   "outputs": [
    {
     "data": {
      "image/png": "[encoded data removed]",
      "text/plain": [
       "<Figure size 432x288 with 1 Axes>"
      ]
     },
     "metadata": {
      "needs_background": "light"
     },
     "output_type": "display_data"
    }
   ],
   "source": [
    "cyl_props_by_region = cyl_counts_by_region / cyl_counts_by_region.sum()\n",
    "bar_bottoms = np.cumsum(cyl_props_by_region) - cyl_props_by_region\n",
    "colors2 = ['c', 'm', 'y', 'darkorange', 'gray']\n",
    "plt.figure(figsize=[6,4])\n",
    "for i in range(len(cyl_props_by_region)):\n",
    "    plt.bar(x=cyl_props_by_region.columns, height=cyl_props_by_region.iloc[i,:], label=cyl_props_by_region.index[i], color=colors2[i], edgecolor='k', bottom=bar_bottoms.iloc[i,:])\n",
    "    plt.xlabel('Region')\n",
    "    plt.ylabel('Proportion')\n",
    "    plt.title('Distribution of Cyllinder Numbers by Region')\n",
    "    plt.legend(bbox_to_anchor = (1,1))\n",
    "plt.show()"
   ]
  }
 ],
 "metadata": {
  "kernelspec": {
   "display_name": "Python 3 (ipykernel)",
   "language": "python",
   "name": "python3"
  },
  "language_info": {
   "codemirror_mode": {
    "name": "ipython",
    "version": 3
   },
   "file_extension": ".py",
   "mimetype": "text/x-python",
   "name": "python",
   "nbconvert_exporter": "python",
   "pygments_lexer": "ipython3",
   "version": "3.9.7"
  }
 },
 "nbformat": 4,
 "nbformat_minor": 5
}
