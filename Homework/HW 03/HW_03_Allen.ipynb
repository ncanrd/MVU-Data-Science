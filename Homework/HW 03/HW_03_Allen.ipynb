{
 "cells": [
  {
   "cell_type": "markdown",
   "id": "fd2d24c5",
   "metadata": {},
   "source": [
    "# DSCI 503 - Homework 03\n",
    "### Nicholas Allen\n",
    "Due January 29th, 2022"
   ]
  },
  {
   "cell_type": "markdown",
   "id": "1056204a",
   "metadata": {},
   "source": [
    "## Problem 1: Dot Product"
   ]
  },
  {
   "cell_type": "code",
   "execution_count": 1,
   "id": "3507e2bb",
   "metadata": {},
   "outputs": [],
   "source": [
    "def dot_product(x, y):\n",
    "    result = 0\n",
    "    for i in range(len(x)):\n",
    "        result += x[i] * y[i]\n",
    "    return result"
   ]
  },
  {
   "cell_type": "code",
   "execution_count": 2,
   "id": "009aba8e",
   "metadata": {},
   "outputs": [
    {
     "name": "stdout",
     "output_type": "stream",
     "text": [
      "The dot product of v1 and v2 is 16220.\n"
     ]
    }
   ],
   "source": [
    "v1 = [38, 9, 40, 34, 20, 16, 42, 36, 12, 1, 23, 46, 31, 19, 30, 33, 16, 43, 24, 41]\n",
    "v2 = [43, 13, 35, 14, 26, 3, 36, 15, 42, 44, 45, 20, 17, 6, 47, 40, 38, 41, 31, 24]\n",
    "print(f'The dot product of v1 and v2 is {dot_product(v1, v2)}.')"
   ]
  },
  {
   "cell_type": "markdown",
   "id": "b361b7fa",
   "metadata": {},
   "source": [
    "## Problem 2: Amortization"
   ]
  },
  {
   "cell_type": "code",
   "execution_count": 3,
   "id": "0426a60f",
   "metadata": {},
   "outputs": [],
   "source": [
    "def count_payments(amount, rate, pmt):\n",
    "    balance = amount\n",
    "    num_pmts = 0\n",
    "    while balance > 0:\n",
    "        balance = round(balance * (1 + rate) - pmt, 2)\n",
    "        num_pmts += 1\n",
    "    return num_pmts"
   ]
  },
  {
   "cell_type": "code",
   "execution_count": 4,
   "id": "a9a13336",
   "metadata": {
    "scrolled": true
   },
   "outputs": [
    {
     "name": "stdout",
     "output_type": "stream",
     "text": [
      "351 monthly payments of $850 would be required.\n",
      "312 monthly payments of $900 would be required.\n",
      "281 monthly payments of $950 would be required.\n",
      "256 monthly payments of $1000 would be required.\n",
      "236 monthly payments of $1050 would be required.\n"
     ]
    }
   ],
   "source": [
    "pmt = 850\n",
    "while pmt <= 1050:\n",
    "    print(f'{count_payments(160000,0.004,pmt)} monthly payments of ${pmt} would be required.')\n",
    "    pmt += 50\n",
    "    \n",
    "    #I'm not sure I fully understood the instructions to use a \"formula\" to increase the payments instead of a list\n",
    "    #Please provide feedback. I am very curious of other/more efficient ways to perform this."
   ]
  },
  {
   "cell_type": "code",
   "execution_count": 5,
   "id": "33cc9c54",
   "metadata": {},
   "outputs": [
    {
     "name": "stdout",
     "output_type": "stream",
     "text": [
      "308 monthly payments of $850 would be required.\n",
      "279 monthly payments of $900 would be required.\n",
      "255 monthly payments of $950 would be required.\n",
      "235 monthly payments of $1000 would be required.\n",
      "219 monthly payments of $1050 would be required.\n"
     ]
    }
   ],
   "source": [
    "pmt = 850\n",
    "while pmt <= 1050:\n",
    "    print(f'{count_payments(160000,0.0035,pmt)} monthly payments of ${pmt} would be required.')\n",
    "    pmt += 50"
   ]
  },
  {
   "cell_type": "markdown",
   "id": "31935976",
   "metadata": {},
   "source": [
    "## Problem 3: Minimum"
   ]
  },
  {
   "cell_type": "code",
   "execution_count": 6,
   "id": "d6a7906c",
   "metadata": {},
   "outputs": [],
   "source": [
    "def minimum(x):\n",
    "    min_item = x[0]\n",
    "    for i in range(len(x)-1):\n",
    "        if min_item <= x[i+1]:\n",
    "            continue\n",
    "        else:\n",
    "            min_item = x[i+1]\n",
    "    return min_item"
   ]
  },
  {
   "cell_type": "code",
   "execution_count": 7,
   "id": "cfa73ebf",
   "metadata": {
    "scrolled": true
   },
   "outputs": [
    {
     "name": "stdout",
     "output_type": "stream",
     "text": [
      "4.1\n",
      "3.4\n",
      "Chicago\n"
     ]
    }
   ],
   "source": [
    "list1 = [9.8, 7.4, 5.6, 4.8, 4.8, 5.3, 4.1, 9.6, 5.4]\n",
    "list2 = [3.4, 7.6, 8.7, 7.5, 9.8, 7.5, 6.7, 8.7, 8.4]\n",
    "list3 = ['St. Louis', 'Kansas City', 'Chicago', 'Little Rock', 'Omaha']\n",
    "\n",
    "print(minimum(list1))\n",
    "print(minimum(list2))\n",
    "print(minimum(list3))"
   ]
  },
  {
   "cell_type": "markdown",
   "id": "d453a3b3",
   "metadata": {},
   "source": [
    "## Problem 4: Argmin"
   ]
  },
  {
   "cell_type": "code",
   "execution_count": 8,
   "id": "6f4dff6d",
   "metadata": {},
   "outputs": [],
   "source": [
    "def argmin(x):\n",
    "    min_item = x[0]\n",
    "    min_idx = 0\n",
    "    for i in range(len(x)-1):\n",
    "        if min_item <= x[i+1]:\n",
    "            continue\n",
    "        else:\n",
    "            min_item = x[i+1]\n",
    "            min_idx = i+1\n",
    "    return min_idx"
   ]
  },
  {
   "cell_type": "code",
   "execution_count": 9,
   "id": "4653063f",
   "metadata": {},
   "outputs": [
    {
     "name": "stdout",
     "output_type": "stream",
     "text": [
      "6\n",
      "0\n",
      "2\n"
     ]
    }
   ],
   "source": [
    "print(argmin(list1))\n",
    "print(argmin(list2))\n",
    "print(argmin(list3))"
   ]
  },
  {
   "cell_type": "markdown",
   "id": "f4e81ea3",
   "metadata": {},
   "source": [
    "## Problem 5: Find Smallest Elements"
   ]
  },
  {
   "cell_type": "code",
   "execution_count": 10,
   "id": "8bac8ea6",
   "metadata": {},
   "outputs": [],
   "source": [
    "def find_smallest(x, n=None):\n",
    "    sorted_x = sorted(x)\n",
    "    if n == None:\n",
    "        return min(sorted_x)\n",
    "    elif n < len(x):\n",
    "        return sorted_x[:n]\n",
    "    else:\n",
    "        return sorted_x"
   ]
  },
  {
   "cell_type": "code",
   "execution_count": 11,
   "id": "8087ffb7",
   "metadata": {},
   "outputs": [
    {
     "name": "stdout",
     "output_type": "stream",
     "text": [
      "17\n",
      "[17]\n",
      "[17, 28]\n",
      "[17, 28, 28, 39, 53]\n",
      "[17, 28, 28, 39, 53, 54, 64, 74]\n"
     ]
    }
   ],
   "source": [
    "my_list = [39, 74, 28, 64, 17, 28, 54, 53]\n",
    "print(find_smallest(my_list))\n",
    "print(find_smallest(my_list, 1))\n",
    "print(find_smallest(my_list, 2))\n",
    "print(find_smallest(my_list, 5))\n",
    "print(find_smallest(my_list, 12))"
   ]
  },
  {
   "cell_type": "code",
   "execution_count": 12,
   "id": "2886b190",
   "metadata": {},
   "outputs": [
    {
     "name": "stdout",
     "output_type": "stream",
     "text": [
      "[39, 74, 28, 64, 17, 28, 54, 53]\n"
     ]
    }
   ],
   "source": [
    "print(my_list)"
   ]
  },
  {
   "cell_type": "markdown",
   "id": "e4a408c5",
   "metadata": {},
   "source": [
    "## Problem 6: Find Unique Elements"
   ]
  },
  {
   "cell_type": "code",
   "execution_count": 13,
   "id": "48f64ffc",
   "metadata": {},
   "outputs": [],
   "source": [
    "def unique(x):\n",
    "    new_list = []\n",
    "    for i in range(len(x)):\n",
    "        if x[i] in new_list:\n",
    "            continue\n",
    "        else:\n",
    "            new_list.append(x[i])\n",
    "    new_list.sort()\n",
    "    return new_list"
   ]
  },
  {
   "cell_type": "code",
   "execution_count": 14,
   "id": "2c3add31",
   "metadata": {},
   "outputs": [
    {
     "name": "stdout",
     "output_type": "stream",
     "text": [
      "[12, 14, 16, 19, 23]\n",
      "['bat', 'cat', 'dog', 'frog']\n"
     ]
    }
   ],
   "source": [
    "int_list = [23, 16, 23, 12, 14, 23, 12, 19, 19]\n",
    "str_list = ['cat', 'dog', 'dog', 'cat', 'bat', 'frog', 'dog', 'frog']\n",
    "print(unique(int_list))\n",
    "print(unique(str_list))"
   ]
  },
  {
   "cell_type": "markdown",
   "id": "19c78e44",
   "metadata": {},
   "source": [
    "## Problem 7: Frequency Distribution"
   ]
  },
  {
   "cell_type": "code",
   "execution_count": 15,
   "id": "4f96a6cd",
   "metadata": {},
   "outputs": [],
   "source": [
    "def freq_dist(x):\n",
    "    values = unique(x)\n",
    "    counts = []\n",
    "    for i in range(len(values)):\n",
    "        count = 0\n",
    "        for j in range(len(x)):\n",
    "            if x[j] == values[i]:\n",
    "                count += 1\n",
    "        counts.append(count)\n",
    "    return values, counts   "
   ]
  },
  {
   "cell_type": "code",
   "execution_count": 16,
   "id": "25cee945",
   "metadata": {},
   "outputs": [
    {
     "name": "stdout",
     "output_type": "stream",
     "text": [
      "Unique Values: ['A', 'B', 'C', 'D', 'F']\n",
      "Frequencies:   [6, 8, 5, 5, 3]     \n"
     ]
    }
   ],
   "source": [
    "grades = ['A', 'D', 'A', 'C', 'B', 'F', 'A', 'D', 'C',\n",
    "'B', 'F', 'A', 'C', 'B', 'A', 'B', 'B', 'C',\n",
    "'B', 'F', 'D', 'D', 'A', 'C', 'B', 'B', 'D']\n",
    "\n",
    "print(f'Unique Values: {str(unique(grades)):<20}')\n",
    "print(f'Frequencies:   {str(freq_dist(grades)[1]):<20}')\n",
    "\n",
    "#would love feedback on the alignment. coercing to strings seems incorrect. \n",
    "#Can you encase the entire f string in {} and align the entire string that way?? "
   ]
  },
  {
   "cell_type": "markdown",
   "id": "8cd5153a",
   "metadata": {},
   "source": [
    "## Problem 8: Weighed Means"
   ]
  },
  {
   "cell_type": "code",
   "execution_count": 17,
   "id": "1a7ee072",
   "metadata": {},
   "outputs": [],
   "source": [
    "def mean(x,w=None):\n",
    "    result = 0\n",
    "    if w == None:\n",
    "        result = sum(x) / len(x)\n",
    "    else:\n",
    "        for i in range(len(x)):\n",
    "            result += x[i] * w[i]\n",
    "        result = result / sum(w)\n",
    "    return result"
   ]
  },
  {
   "cell_type": "code",
   "execution_count": 18,
   "id": "93dd1ad2",
   "metadata": {},
   "outputs": [
    {
     "name": "stdout",
     "output_type": "stream",
     "text": [
      "Standard Mean: 4.9   \n",
      "Weighted Mean: 4.15 \n"
     ]
    }
   ],
   "source": [
    "values = [4, 7, 3, 5, 2, 6, 8, 2, 4, 8]\n",
    "weights = [2, 1, 3, 1, 2, 3, 1, 4, 2, 1]\n",
    "print(f'Standard Mean: {mean(values):<5} \\n\\\n",
    "Weighted Mean: {mean(values, weights):<5}')"
   ]
  }
 ],
 "metadata": {
  "kernelspec": {
   "display_name": "Python 3 (ipykernel)",
   "language": "python",
   "name": "python3"
  },
  "language_info": {
   "codemirror_mode": {
    "name": "ipython",
    "version": 3
   },
   "file_extension": ".py",
   "mimetype": "text/x-python",
   "name": "python",
   "nbconvert_exporter": "python",
   "pygments_lexer": "ipython3",
   "version": "3.9.7"
  }
 },
 "nbformat": 4,
 "nbformat_minor": 5
}
