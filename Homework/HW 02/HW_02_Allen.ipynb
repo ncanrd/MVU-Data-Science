{
 "cells": [
  {
   "cell_type": "markdown",
   "id": "3758f8b2",
   "metadata": {},
   "source": [
    "# DSCI 503 - Homework 02\n",
    "\n",
    "### Nicholas Allen\n",
    "\n",
    " Due Sunday, January 23, 2022"
   ]
  },
  {
   "cell_type": "markdown",
   "id": "e6449620",
   "metadata": {},
   "source": [
    "## Problem 1: Altering Lists"
   ]
  },
  {
   "cell_type": "code",
   "execution_count": 1,
   "id": "098a94ec",
   "metadata": {},
   "outputs": [
    {
     "name": "stdout",
     "output_type": "stream",
     "text": [
      "['Beth', 'Gina', 'Fred', 'Drew', 'Alex', 'Emma', 'Herb', 'Chad', 'Iris']\n",
      "[15, 12, 11, 8, 5, 4, 3, 2, 0]\n"
     ]
    }
   ],
   "source": [
    "employees = ['Beth', 'Fred', 'Drew', 'Alex', 'Emma', 'Chad']\n",
    "years = [15, 11, 8, 5, 4, 2]\n",
    "new = [['Gina', 12], ['Herb', 3], ['Iris', 0]]\n",
    "for i in range(0, len(new)):\n",
    "    for j in range(0, len(years)):\n",
    "        if new[i][1] > years[j]:\n",
    "            years.insert(j, new[i][1])\n",
    "            employees.insert(j, new[i][0])\n",
    "            break\n",
    "    if new[i][1] < years[len(years)-1]:\n",
    "            years.insert(len(years), new[i][1])\n",
    "            employees.insert(len(years), new[i][0])\n",
    "print(employees)\n",
    "print(years)\n"
   ]
  },
  {
   "cell_type": "code",
   "execution_count": 2,
   "id": "173dd181",
   "metadata": {},
   "outputs": [
    {
     "name": "stdout",
     "output_type": "stream",
     "text": [
      "['Beth', 'Gina', 'Drew', 'Emma', 'Alex', 'Herb', 'Chad', 'Iris']\n",
      "[15, 12, 8, 6, 5, 3, 2, 0]\n"
     ]
    }
   ],
   "source": [
    "del employees[2]\n",
    "del years[2]\n",
    "del employees[4]\n",
    "del years[4]\n",
    "employees.insert(3, 'Emma')\n",
    "years.insert(3, 6)\n",
    "print(employees)\n",
    "print(years)"
   ]
  },
  {
   "cell_type": "markdown",
   "id": "bc3104a3",
   "metadata": {},
   "source": [
    "## Problem 2: Sorting and Slicing Lists"
   ]
  },
  {
   "cell_type": "code",
   "execution_count": 3,
   "id": "d1009bac",
   "metadata": {},
   "outputs": [],
   "source": [
    "import random\n",
    "random.seed(12)\n",
    "random_list = random.sample(range(500), 99)"
   ]
  },
  {
   "cell_type": "code",
   "execution_count": 4,
   "id": "a764e7bd",
   "metadata": {},
   "outputs": [
    {
     "name": "stdout",
     "output_type": "stream",
     "text": [
      "Length of random_list: 99 \n",
      "First 10 Elements of random_list: [242, 137, 336, 270, 341, 179, 73, 195, 5, 191]\n"
     ]
    }
   ],
   "source": [
    "print(f'Length of random_list: {len(random_list)} \\n'\\\n",
    "f'First 10 Elements of random_list: {random_list[0:10]}')"
   ]
  },
  {
   "cell_type": "code",
   "execution_count": 5,
   "id": "da79aa0d",
   "metadata": {},
   "outputs": [
    {
     "name": "stdout",
     "output_type": "stream",
     "text": [
      "The sum of the elements in random list is 23739.\n"
     ]
    }
   ],
   "source": [
    "print(f'The sum of the elements in random list is {sum(random_list)}.')"
   ]
  },
  {
   "cell_type": "code",
   "execution_count": 6,
   "id": "23e69b25",
   "metadata": {},
   "outputs": [
    {
     "name": "stdout",
     "output_type": "stream",
     "text": [
      "First 10 Elements of sorted_list: [0, 5, 9, 15, 26, 30, 31, 38, 42, 44] \n",
      "First 10 Elements of random_list: [242, 137, 336, 270, 341, 179, 73, 195, 5, 191]\n"
     ]
    }
   ],
   "source": [
    "sorted_list = sorted(random_list)\n",
    "print(f'First 10 Elements of sorted_list: {sorted_list[0:10]} \\n'\\\n",
    "f'First 10 Elements of random_list: {random_list[0:10]}')"
   ]
  },
  {
   "cell_type": "code",
   "execution_count": 7,
   "id": "b88e8144",
   "metadata": {},
   "outputs": [
    {
     "name": "stdout",
     "output_type": "stream",
     "text": [
      "The smallest element of bot_slice is 0. \n",
      "The largest element of bot_slice is 173. \n",
      "\n",
      "The smallest element of mid_slice is 179. \n",
      "The largest element of mid_slice is 311. \n",
      "\n",
      "The smallest element of top_slice is 318. \n",
      "The largest element of top_slice is 484.\n"
     ]
    }
   ],
   "source": [
    "bot_slice = sorted_list[:33]\n",
    "mid_slice = sorted_list[33:-33]\n",
    "top_slice = sorted_list[-33:]\n",
    "\n",
    "print(f'The smallest element of bot_slice is {min(bot_slice)}. \\n'\\\n",
    "f'The largest element of bot_slice is {max(bot_slice)}. \\n\\n'\\\n",
    "f'The smallest element of mid_slice is {min(mid_slice)}. \\n'\\\n",
    "f'The largest element of mid_slice is {max(mid_slice)}. \\n\\n'\\\n",
    "f'The smallest element of top_slice is {min(top_slice)}. \\n'\\\n",
    "f'The largest element of top_slice is {max(top_slice)}.')"
   ]
  },
  {
   "cell_type": "markdown",
   "id": "73cef6cd",
   "metadata": {},
   "source": [
    "## Problem 3: Calculating Sum of Squared Errors"
   ]
  },
  {
   "cell_type": "code",
   "execution_count": 8,
   "id": "888d0496",
   "metadata": {},
   "outputs": [],
   "source": [
    "length = [22.7, 22.4, 25.8, 21.3, 20.1, 22.1, 21.1, 25.3, 26.9, 26.9,\n",
    "23.0, 23.8, 26.2, 20.4, 23.0, 21.9, 23.5, 27.8, 25.3, 25.9]\n",
    "weight = [9.2, 8.8, 10.7, 8.3, 6.2, 8.6, 7.2, 11.2, 10.5, 11.3,\n",
    "9.6, 9.9, 10.9, 5.9, 9.5, 9.1, 9.7, 11.6, 10.2, 10.5]"
   ]
  },
  {
   "cell_type": "code",
   "execution_count": 9,
   "id": "41b09b09",
   "metadata": {},
   "outputs": [
    {
     "name": "stdout",
     "output_type": "stream",
     "text": [
      "[13.62, 13.44, 15.48, 12.78, 12.06, 13.26, 12.66, 15.18, 16.14, 16.14, 13.8, 14.28, 15.72, 12.24, 13.8, 13.14, 14.1, 16.68, 15.18, 15.54]\n"
     ]
    }
   ],
   "source": [
    "pred_weight = []\n",
    "\n",
    "for i in range(len(length)):\n",
    "    pred_weight.append(round((0.6 * length[i]),2))\n",
    "print(pred_weight)"
   ]
  },
  {
   "cell_type": "code",
   "execution_count": 10,
   "id": "9d614d3c",
   "metadata": {},
   "outputs": [
    {
     "name": "stdout",
     "output_type": "stream",
     "text": [
      "471.3596\n"
     ]
    }
   ],
   "source": [
    "SSE = 0\n",
    "for i in range(len(pred_weight)):\n",
    "    SSE += (weight[i] - pred_weight[i]) ** 2\n",
    "print(round(SSE,4))"
   ]
  },
  {
   "cell_type": "markdown",
   "id": "25daabeb",
   "metadata": {},
   "source": [
    "## Problem 4: Calculating Exam Scores"
   ]
  },
  {
   "cell_type": "code",
   "execution_count": 11,
   "id": "45856601",
   "metadata": {},
   "outputs": [
    {
     "name": "stdout",
     "output_type": "stream",
     "text": [
      "\n",
      "Student 1 Grade: 64.0% \n",
      "Student 2 Grade: 84.0%\n"
     ]
    }
   ],
   "source": [
    "correct = ['D', 'B', 'C', 'A', 'C', 'D', 'A', 'C', 'C', 'B', 'D', 'A', 'B', 'D', 'C', 'D', 'C', 'D', 'C', 'A', 'B', 'D', 'C', 'B', 'A']\n",
    "answers1 = ['A', 'B', 'C', 'A', 'B', 'D', 'A', 'A', 'C', 'B', 'D', 'A', 'D', 'C', 'C', 'B', 'C', 'D', 'B', 'A', 'D', 'D', 'C', 'C', 'A']\n",
    "answers2 = ['D', 'A', 'C', 'A', 'B', 'D', 'A', 'C', 'C', 'B', 'D', 'A', 'B', 'D', 'A', 'D', 'C', 'D', 'C', 'A', 'B', 'C', 'C', 'B', 'A']\n",
    "correct1 = 0\n",
    "correct2 = 0\n",
    "\n",
    "for i in range(0, len(correct)):\n",
    "    if answers1[i] == correct[i]:\n",
    "        correct1 += 1\n",
    "    if answers2[i] == correct[i]:\n",
    "        correct2 += 1\n",
    "grade1 = correct1/len(correct) * 100\n",
    "grade2 = correct2/len(correct) * 100\n",
    "print(f'\\n'\\\n",
    "      f'Student 1 Grade: {grade1}% \\n'\n",
    "      f'Student 2 Grade: {grade2}%')"
   ]
  },
  {
   "cell_type": "markdown",
   "id": "7084a75f",
   "metadata": {},
   "source": [
    "## Problem 5: Determining Monthly Payments"
   ]
  },
  {
   "cell_type": "code",
   "execution_count": 12,
   "id": "3449979f",
   "metadata": {},
   "outputs": [
    {
     "name": "stdout",
     "output_type": "stream",
     "text": [
      "A loan of $100000 would require monthly payments of $524.67.\n",
      "A loan of $110000 would require monthly payments of $577.13.\n",
      "A loan of $120000 would require monthly payments of $629.6.\n",
      "A loan of $130000 would require monthly payments of $682.06.\n",
      "A loan of $140000 would require monthly payments of $734.53.\n",
      "A loan of $150000 would require monthly payments of $787.0.\n",
      "A loan of $160000 would require monthly payments of $839.46.\n",
      "A loan of $170000 would require monthly payments of $891.93.\n",
      "A loan of $180000 would require monthly payments of $944.4.\n",
      "A loan of $190000 would require monthly payments of $996.86.\n",
      "A loan of $200000 would require monthly payments of $1049.33.\n"
     ]
    }
   ],
   "source": [
    "i = 0.004\n",
    "n = 30 * 12\n",
    "start = 100000\n",
    "increment = 10000\n",
    "for x in range(0, len(range(start,210000,increment))):\n",
    "    L = start + increment * x\n",
    "    PMT = L / ((1 - (1 + i) ** -n ) / i)\n",
    "    print(f'A loan of ${L} would require monthly payments of ${round(PMT, 2)}.')"
   ]
  },
  {
   "cell_type": "markdown",
   "id": "0a890680",
   "metadata": {},
   "source": [
    "## Problem 6: Creating an Amortization Schedule"
   ]
  },
  {
   "cell_type": "code",
   "execution_count": 13,
   "id": "eb2b2569",
   "metadata": {},
   "outputs": [
    {
     "name": "stdout",
     "output_type": "stream",
     "text": [
      "The balance at the end of 12 months will be $157553.11.\n",
      "The balance at the end of 24 months will be $154986.16.\n",
      "The balance at the end of 36 months will be $152293.24.\n",
      "The balance at the end of 48 months will be $149468.18.\n",
      "The balance at the end of 60 months will be $146504.5.\n",
      "The balance at the end of 72 months will be $143395.39.\n",
      "The balance at the end of 84 months will be $140133.71.\n",
      "The balance at the end of 96 months will be $136711.98.\n",
      "The balance at the end of 108 months will be $133122.35.\n",
      "The balance at the end of 120 months will be $129356.57.\n",
      "The balance at the end of 132 months will be $125406.0.\n",
      "The balance at the end of 144 months will be $121261.58.\n",
      "The balance at the end of 156 months will be $116913.8.\n",
      "The balance at the end of 168 months will be $112352.66.\n",
      "The balance at the end of 180 months will be $107567.71.\n",
      "The balance at the end of 192 months will be $102547.96.\n",
      "The balance at the end of 204 months will be $97281.89.\n",
      "The balance at the end of 216 months will be $91757.41.\n",
      "The balance at the end of 228 months will be $85961.85.\n",
      "The balance at the end of 240 months will be $79881.9.\n",
      "The balance at the end of 252 months will be $73503.6.\n",
      "The balance at the end of 264 months will be $66812.32.\n",
      "The balance at the end of 276 months will be $59792.69.\n",
      "The balance at the end of 288 months will be $52428.61.\n",
      "The balance at the end of 300 months will be $44703.18.\n",
      "The balance at the end of 312 months will be $36598.65.\n",
      "The balance at the end of 324 months will be $28096.44.\n",
      "The balance at the end of 336 months will be $19177.02.\n",
      "The balance at the end of 348 months will be $9819.92.\n",
      "The balance at the end of 360 months will be $3.66.\n"
     ]
    }
   ],
   "source": [
    "balance = 160000\n",
    "i = 0.004\n",
    "pmt = 839.46\n",
    "for y in range(0,n):\n",
    "    balance = balance * (1 + i) - pmt\n",
    "    if (y + 1) % 12 == 0:\n",
    "        print(f'The balance at the end of {y + 1} months will be ${round(balance,2)}.')\n",
    "    "
   ]
  },
  {
   "cell_type": "markdown",
   "id": "3d85037d",
   "metadata": {},
   "source": [
    "## Problem 7: Calculating Price of a Bulk Order"
   ]
  },
  {
   "cell_type": "code",
   "execution_count": 14,
   "id": "ca738119",
   "metadata": {},
   "outputs": [
    {
     "name": "stdout",
     "output_type": "stream",
     "text": [
      "The cost for an order of 84 widgets is $29400.\n",
      "The cost for an order of 100 widgets is $35000.\n",
      "The cost for an order of 126 widgets is $42800.\n",
      "The cost for an order of 150 widgets is $50000.\n",
      "The cost for an order of 186 widgets is $60800.\n",
      "The cost for an order of 200 widgets is $65000.\n",
      "The cost for an order of 216 widgets is $69000.\n",
      "The cost for an order of 248 widgets is $77000.\n"
     ]
    }
   ],
   "source": [
    "quantities = [84, 100, 126, 150, 186, 200, 216, 248]\n",
    "for i in range(0,len(quantities)):\n",
    "    if quantities[i] <= 100:\n",
    "        cost = quantities[i] * 350\n",
    "    elif quantities[i] > 100 and quantities[i] <= 200:\n",
    "        cost = 100 * 350 + (quantities[i] - 100) * 300\n",
    "    else:\n",
    "        cost = 100 * 350 + 100 * 300 + (quantities[i] - 200) * 250\n",
    "    print(f'The cost for an order of {quantities[i]} widgets is ${cost}.')"
   ]
  },
  {
   "cell_type": "markdown",
   "id": "61002f5f",
   "metadata": {},
   "source": [
    "## Problem 8: Adding Matrices"
   ]
  },
  {
   "cell_type": "code",
   "execution_count": 15,
   "id": "c31c7f47",
   "metadata": {},
   "outputs": [],
   "source": [
    "A = [[13, 43, 28, 22, 41], [17, 39, 46, 16, 21], [41, 34, 31, 25, 14]]\n",
    "B = [[35, 29, 43, 21, 31], [48, 26, 19, 17, 23], [32, 34, 24, 16, 27]]"
   ]
  },
  {
   "cell_type": "code",
   "execution_count": 16,
   "id": "e2a4ce44",
   "metadata": {},
   "outputs": [
    {
     "name": "stdout",
     "output_type": "stream",
     "text": [
      "[48, 72, 71, 43, 72]\n",
      "[65, 65, 65, 33, 44]\n",
      "[73, 68, 55, 41, 41]\n"
     ]
    }
   ],
   "source": [
    "AplusB = []\n",
    "\n",
    "for row in range(0,len(A)):\n",
    "    new_row = []\n",
    "    for col in range(0,len(A[row])):\n",
    "        new_row.append(A[row][col] + B[row][col])\n",
    "    AplusB.append(new_row)\n",
    "    print(AplusB[row])"
   ]
  }
 ],
 "metadata": {
  "kernelspec": {
   "display_name": "Python 3 (ipykernel)",
   "language": "python",
   "name": "python3"
  },
  "language_info": {
   "codemirror_mode": {
    "name": "ipython",
    "version": 3
   },
   "file_extension": ".py",
   "mimetype": "text/x-python",
   "name": "python",
   "nbconvert_exporter": "python",
   "pygments_lexer": "ipython3",
   "version": "3.9.7"
  }
 },
 "nbformat": 4,
 "nbformat_minor": 5
}
