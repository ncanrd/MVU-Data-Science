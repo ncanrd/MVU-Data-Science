{
 "cells": [
  {
   "cell_type": "markdown",
   "id": "4b1e85e4",
   "metadata": {},
   "source": [
    "# DSCI 503 - Homework 08\n",
    "### Nicholas Allen\n",
    "Due Sunday March 6, 2022"
   ]
  },
  {
   "cell_type": "code",
   "execution_count": 1,
   "id": "895d46e4",
   "metadata": {},
   "outputs": [],
   "source": [
    "import numpy as np, pandas as pd, matplotlib.pyplot as plt\n",
    "from sklearn.model_selection import train_test_split\n",
    "from sklearn.preprocessing import OneHotEncoder\n",
    "\n",
    "from sklearn.linear_model import LinearRegression\n",
    "from sklearn.linear_model import LogisticRegression\n",
    "from sklearn.tree import DecisionTreeClassifier\n",
    "from sklearn.ensemble import RandomForestClassifier\n",
    "\n",
    "from sklearn.metrics import classification_report, confusion_matrix"
   ]
  },
  {
   "cell_type": "markdown",
   "id": "1620baf6",
   "metadata": {},
   "source": [
    "## Problem 1: Diamonds Dataset"
   ]
  },
  {
   "cell_type": "code",
   "execution_count": 2,
   "id": "316480b3",
   "metadata": {},
   "outputs": [
    {
     "data": {
      "text/html": [
       "<div>\n",
       "<style scoped>\n",
       "    .dataframe tbody tr th:only-of-type {\n",
       "        vertical-align: middle;\n",
       "    }\n",
       "\n",
       "    .dataframe tbody tr th {\n",
       "        vertical-align: top;\n",
       "    }\n",
       "\n",
       "    .dataframe thead th {\n",
       "        text-align: right;\n",
       "    }\n",
       "</style>\n",
       "<table border=\"1\" class=\"dataframe\">\n",
       "  <thead>\n",
       "    <tr style=\"text-align: right;\">\n",
       "      <th></th>\n",
       "      <th>carat</th>\n",
       "      <th>cut</th>\n",
       "      <th>color</th>\n",
       "      <th>clarity</th>\n",
       "      <th>depth</th>\n",
       "      <th>table</th>\n",
       "      <th>price</th>\n",
       "      <th>x</th>\n",
       "      <th>y</th>\n",
       "      <th>z</th>\n",
       "      <th>ln_carat</th>\n",
       "      <th>ln_price</th>\n",
       "    </tr>\n",
       "  </thead>\n",
       "  <tbody>\n",
       "    <tr>\n",
       "      <th>1</th>\n",
       "      <td>0.23</td>\n",
       "      <td>Ideal</td>\n",
       "      <td>E</td>\n",
       "      <td>SI2</td>\n",
       "      <td>61.5</td>\n",
       "      <td>55.0</td>\n",
       "      <td>326</td>\n",
       "      <td>3.95</td>\n",
       "      <td>3.98</td>\n",
       "      <td>2.43</td>\n",
       "      <td>-1.469676</td>\n",
       "      <td>5.786897</td>\n",
       "    </tr>\n",
       "    <tr>\n",
       "      <th>2</th>\n",
       "      <td>0.21</td>\n",
       "      <td>Premium</td>\n",
       "      <td>E</td>\n",
       "      <td>SI1</td>\n",
       "      <td>59.8</td>\n",
       "      <td>61.0</td>\n",
       "      <td>326</td>\n",
       "      <td>3.89</td>\n",
       "      <td>3.84</td>\n",
       "      <td>2.31</td>\n",
       "      <td>-1.560648</td>\n",
       "      <td>5.786897</td>\n",
       "    </tr>\n",
       "    <tr>\n",
       "      <th>3</th>\n",
       "      <td>0.23</td>\n",
       "      <td>Good</td>\n",
       "      <td>E</td>\n",
       "      <td>VS1</td>\n",
       "      <td>56.9</td>\n",
       "      <td>65.0</td>\n",
       "      <td>327</td>\n",
       "      <td>4.05</td>\n",
       "      <td>4.07</td>\n",
       "      <td>2.31</td>\n",
       "      <td>-1.469676</td>\n",
       "      <td>5.789960</td>\n",
       "    </tr>\n",
       "    <tr>\n",
       "      <th>4</th>\n",
       "      <td>0.29</td>\n",
       "      <td>Premium</td>\n",
       "      <td>I</td>\n",
       "      <td>VS2</td>\n",
       "      <td>62.4</td>\n",
       "      <td>58.0</td>\n",
       "      <td>334</td>\n",
       "      <td>4.20</td>\n",
       "      <td>4.23</td>\n",
       "      <td>2.63</td>\n",
       "      <td>-1.237874</td>\n",
       "      <td>5.811141</td>\n",
       "    </tr>\n",
       "    <tr>\n",
       "      <th>5</th>\n",
       "      <td>0.31</td>\n",
       "      <td>Good</td>\n",
       "      <td>J</td>\n",
       "      <td>SI2</td>\n",
       "      <td>63.3</td>\n",
       "      <td>58.0</td>\n",
       "      <td>335</td>\n",
       "      <td>4.34</td>\n",
       "      <td>4.35</td>\n",
       "      <td>2.75</td>\n",
       "      <td>-1.171183</td>\n",
       "      <td>5.814131</td>\n",
       "    </tr>\n",
       "  </tbody>\n",
       "</table>\n",
       "</div>"
      ],
      "text/plain": [
       "   carat      cut color clarity  depth  table  price     x     y     z  \\\n",
       "1   0.23    Ideal     E     SI2   61.5   55.0    326  3.95  3.98  2.43   \n",
       "2   0.21  Premium     E     SI1   59.8   61.0    326  3.89  3.84  2.31   \n",
       "3   0.23     Good     E     VS1   56.9   65.0    327  4.05  4.07  2.31   \n",
       "4   0.29  Premium     I     VS2   62.4   58.0    334  4.20  4.23  2.63   \n",
       "5   0.31     Good     J     SI2   63.3   58.0    335  4.34  4.35  2.75   \n",
       "\n",
       "   ln_carat  ln_price  \n",
       "1 -1.469676  5.786897  \n",
       "2 -1.560648  5.786897  \n",
       "3 -1.469676  5.789960  \n",
       "4 -1.237874  5.811141  \n",
       "5 -1.171183  5.814131  "
      ]
     },
     "execution_count": 2,
     "metadata": {},
     "output_type": "execute_result"
    }
   ],
   "source": [
    "diamonds = pd.read_table('diamonds.txt', sep='\\t')\n",
    "diamonds.loc[:,'ln_carat'] = np.log(diamonds.loc[:,'carat'])\n",
    "diamonds.loc[:,'ln_price'] = np.log(diamonds.loc[:,'price'])\n",
    "diamonds.head(5)"
   ]
  },
  {
   "cell_type": "code",
   "execution_count": 3,
   "id": "3eca9dcf",
   "metadata": {},
   "outputs": [
    {
     "name": "stdout",
     "output_type": "stream",
     "text": [
      "Numerical Feature Array Shape:   (53940, 1)\n",
      "Categorical Feature Array Shape: (53940, 3)\n",
      "Label Array Shape:               (53940,)\n"
     ]
    }
   ],
   "source": [
    "X1_num = diamonds.loc[:,{'ln_carat'}]\n",
    "X1_cat = diamonds.loc[:,{'cut', 'color', 'clarity'}]\n",
    "y1 = diamonds.loc[:,'ln_price']\n",
    "print(f'Numerical Feature Array Shape:   {X1_num.shape}')\n",
    "print(f'Categorical Feature Array Shape: {X1_cat.shape}')\n",
    "print(f'Label Array Shape:               {y1.shape}')"
   ]
  },
  {
   "cell_type": "code",
   "execution_count": 4,
   "id": "67131606",
   "metadata": {},
   "outputs": [
    {
     "name": "stdout",
     "output_type": "stream",
     "text": [
      "Encoded Feature Array Shape: (53940, 20)\n"
     ]
    }
   ],
   "source": [
    "OHE = OneHotEncoder(sparse=False)\n",
    "OHE.fit(X1_cat)\n",
    "X1_enc = OHE.transform(X1_cat)\n",
    "\n",
    "print(f'Encoded Feature Array Shape: {X1_enc.shape}')"
   ]
  },
  {
   "cell_type": "code",
   "execution_count": 5,
   "id": "ef123fb8",
   "metadata": {},
   "outputs": [
    {
     "name": "stdout",
     "output_type": "stream",
     "text": [
      "Feature Array Shape: (53940, 21)\n"
     ]
    }
   ],
   "source": [
    "X1 = np.hstack((X1_num, X1_enc))\n",
    "print(f'Feature Array Shape: {X1.shape}')"
   ]
  },
  {
   "cell_type": "code",
   "execution_count": 6,
   "id": "3446f3fb",
   "metadata": {},
   "outputs": [
    {
     "name": "stdout",
     "output_type": "stream",
     "text": [
      "Training Features Shape:   (43152, 21)\n",
      "Validation Features Shape: (5394, 21)\n",
      "Test Features Shape:       (5394, 21)\n"
     ]
    }
   ],
   "source": [
    "X1_train, X1_hold, y1_train, y1_hold = train_test_split(X1, y1, test_size = 0.2, random_state=1)\n",
    "X1_valid, X1_test, y1_valid, y1_test = train_test_split(X1_hold, y1_hold, test_size = 0.5, random_state=1)\n",
    "\n",
    "print(f'Training Features Shape:   {X1_train.shape}')\n",
    "print(f'Validation Features Shape: {X1_valid.shape}')\n",
    "print(f'Test Features Shape:       {X1_test.shape}')"
   ]
  },
  {
   "cell_type": "markdown",
   "id": "224e471f",
   "metadata": {},
   "source": [
    "### Linear Regression Model with One Feature"
   ]
  },
  {
   "cell_type": "code",
   "execution_count": 7,
   "id": "825ca837",
   "metadata": {},
   "outputs": [
    {
     "name": "stdout",
     "output_type": "stream",
     "text": [
      "Training r-Squared:   0.933\n",
      "Validation r-Squared: 0.9348\n"
     ]
    }
   ],
   "source": [
    "dia_mod_1 = LinearRegression()\n",
    "dia_mod_1.fit(X1_train[:,[0]], y1_train)\n",
    "train_r2 = dia_mod_1.score(X1_train[:,[0]], y1_train)\n",
    "valid_r2 = dia_mod_1.score(X1_valid[:,[0]], y1_valid)\n",
    "print(f'Training r-Squared:   {np.round(train_r2,4)}')\n",
    "print(f'Validation r-Squared: {np.round(valid_r2,4)}')"
   ]
  },
  {
   "cell_type": "markdown",
   "id": "de875e54",
   "metadata": {},
   "source": [
    "### Linear Regression Model with Several Features"
   ]
  },
  {
   "cell_type": "code",
   "execution_count": 8,
   "id": "d1653546",
   "metadata": {},
   "outputs": [
    {
     "name": "stdout",
     "output_type": "stream",
     "text": [
      "Training r-Squared:   0.9825\n",
      "Validation r-Squared: 0.9834\n"
     ]
    }
   ],
   "source": [
    "dia_mod_2 = LinearRegression()\n",
    "dia_mod_2.fit(X1_train, y1_train)\n",
    "train2_r2 = dia_mod_2.score(X1_train, y1_train)\n",
    "valid2_r2 = dia_mod_2.score(X1_valid, y1_valid)\n",
    "print(f'Training r-Squared:   {np.round(train2_r2,4)}')\n",
    "print(f'Validation r-Squared: {np.round(valid2_r2,4)}')"
   ]
  },
  {
   "cell_type": "code",
   "execution_count": 9,
   "id": "a5c554d3",
   "metadata": {},
   "outputs": [
    {
     "name": "stdout",
     "output_type": "stream",
     "text": [
      "Testing r-Squared: 0.9825\n"
     ]
    }
   ],
   "source": [
    "print(f'Testing r-Squared: {np.round(dia_mod_2.score(X1_test, y1_test),4)}')"
   ]
  },
  {
   "cell_type": "markdown",
   "id": "56a8d0d9",
   "metadata": {},
   "source": [
    "## Problem 2: Census Dataset"
   ]
  },
  {
   "cell_type": "code",
   "execution_count": 10,
   "id": "57ecf49f",
   "metadata": {},
   "outputs": [
    {
     "data": {
      "text/html": [
       "<div>\n",
       "<style scoped>\n",
       "    .dataframe tbody tr th:only-of-type {\n",
       "        vertical-align: middle;\n",
       "    }\n",
       "\n",
       "    .dataframe tbody tr th {\n",
       "        vertical-align: top;\n",
       "    }\n",
       "\n",
       "    .dataframe thead th {\n",
       "        text-align: right;\n",
       "    }\n",
       "</style>\n",
       "<table border=\"1\" class=\"dataframe\">\n",
       "  <thead>\n",
       "    <tr style=\"text-align: right;\">\n",
       "      <th></th>\n",
       "      <th>age</th>\n",
       "      <th>workclass</th>\n",
       "      <th>fnlwgt</th>\n",
       "      <th>education</th>\n",
       "      <th>educ_num</th>\n",
       "      <th>marital_status</th>\n",
       "      <th>occupation</th>\n",
       "      <th>relationship</th>\n",
       "      <th>race</th>\n",
       "      <th>sex</th>\n",
       "      <th>capital_gain</th>\n",
       "      <th>capital_loss</th>\n",
       "      <th>hrs_per_week</th>\n",
       "      <th>native_country</th>\n",
       "      <th>salary</th>\n",
       "    </tr>\n",
       "  </thead>\n",
       "  <tbody>\n",
       "    <tr>\n",
       "      <th>0</th>\n",
       "      <td>39</td>\n",
       "      <td>State-gov</td>\n",
       "      <td>77516</td>\n",
       "      <td>Bachelors</td>\n",
       "      <td>13</td>\n",
       "      <td>Never-married</td>\n",
       "      <td>Adm-clerical</td>\n",
       "      <td>Not-in-family</td>\n",
       "      <td>White</td>\n",
       "      <td>Male</td>\n",
       "      <td>2174</td>\n",
       "      <td>0</td>\n",
       "      <td>40</td>\n",
       "      <td>United-States</td>\n",
       "      <td>&lt;=50K</td>\n",
       "    </tr>\n",
       "    <tr>\n",
       "      <th>1</th>\n",
       "      <td>50</td>\n",
       "      <td>Self-emp-not-inc</td>\n",
       "      <td>83311</td>\n",
       "      <td>Bachelors</td>\n",
       "      <td>13</td>\n",
       "      <td>Married-civ-spouse</td>\n",
       "      <td>Exec-managerial</td>\n",
       "      <td>Husband</td>\n",
       "      <td>White</td>\n",
       "      <td>Male</td>\n",
       "      <td>0</td>\n",
       "      <td>0</td>\n",
       "      <td>13</td>\n",
       "      <td>United-States</td>\n",
       "      <td>&lt;=50K</td>\n",
       "    </tr>\n",
       "    <tr>\n",
       "      <th>2</th>\n",
       "      <td>38</td>\n",
       "      <td>Private</td>\n",
       "      <td>215646</td>\n",
       "      <td>HS-grad</td>\n",
       "      <td>9</td>\n",
       "      <td>Divorced</td>\n",
       "      <td>Handlers-cleaners</td>\n",
       "      <td>Not-in-family</td>\n",
       "      <td>White</td>\n",
       "      <td>Male</td>\n",
       "      <td>0</td>\n",
       "      <td>0</td>\n",
       "      <td>40</td>\n",
       "      <td>United-States</td>\n",
       "      <td>&lt;=50K</td>\n",
       "    </tr>\n",
       "    <tr>\n",
       "      <th>3</th>\n",
       "      <td>53</td>\n",
       "      <td>Private</td>\n",
       "      <td>234721</td>\n",
       "      <td>11th</td>\n",
       "      <td>7</td>\n",
       "      <td>Married-civ-spouse</td>\n",
       "      <td>Handlers-cleaners</td>\n",
       "      <td>Husband</td>\n",
       "      <td>Black</td>\n",
       "      <td>Male</td>\n",
       "      <td>0</td>\n",
       "      <td>0</td>\n",
       "      <td>40</td>\n",
       "      <td>United-States</td>\n",
       "      <td>&lt;=50K</td>\n",
       "    </tr>\n",
       "    <tr>\n",
       "      <th>4</th>\n",
       "      <td>28</td>\n",
       "      <td>Private</td>\n",
       "      <td>338409</td>\n",
       "      <td>Bachelors</td>\n",
       "      <td>13</td>\n",
       "      <td>Married-civ-spouse</td>\n",
       "      <td>Prof-specialty</td>\n",
       "      <td>Wife</td>\n",
       "      <td>Black</td>\n",
       "      <td>Female</td>\n",
       "      <td>0</td>\n",
       "      <td>0</td>\n",
       "      <td>40</td>\n",
       "      <td>Cuba</td>\n",
       "      <td>&lt;=50K</td>\n",
       "    </tr>\n",
       "    <tr>\n",
       "      <th>5</th>\n",
       "      <td>37</td>\n",
       "      <td>Private</td>\n",
       "      <td>284582</td>\n",
       "      <td>Masters</td>\n",
       "      <td>14</td>\n",
       "      <td>Married-civ-spouse</td>\n",
       "      <td>Exec-managerial</td>\n",
       "      <td>Wife</td>\n",
       "      <td>White</td>\n",
       "      <td>Female</td>\n",
       "      <td>0</td>\n",
       "      <td>0</td>\n",
       "      <td>40</td>\n",
       "      <td>United-States</td>\n",
       "      <td>&lt;=50K</td>\n",
       "    </tr>\n",
       "    <tr>\n",
       "      <th>6</th>\n",
       "      <td>49</td>\n",
       "      <td>Private</td>\n",
       "      <td>160187</td>\n",
       "      <td>9th</td>\n",
       "      <td>5</td>\n",
       "      <td>Married-spouse-absent</td>\n",
       "      <td>Other-service</td>\n",
       "      <td>Not-in-family</td>\n",
       "      <td>Black</td>\n",
       "      <td>Female</td>\n",
       "      <td>0</td>\n",
       "      <td>0</td>\n",
       "      <td>16</td>\n",
       "      <td>Jamaica</td>\n",
       "      <td>&lt;=50K</td>\n",
       "    </tr>\n",
       "    <tr>\n",
       "      <th>7</th>\n",
       "      <td>52</td>\n",
       "      <td>Self-emp-not-inc</td>\n",
       "      <td>209642</td>\n",
       "      <td>HS-grad</td>\n",
       "      <td>9</td>\n",
       "      <td>Married-civ-spouse</td>\n",
       "      <td>Exec-managerial</td>\n",
       "      <td>Husband</td>\n",
       "      <td>White</td>\n",
       "      <td>Male</td>\n",
       "      <td>0</td>\n",
       "      <td>0</td>\n",
       "      <td>45</td>\n",
       "      <td>United-States</td>\n",
       "      <td>&gt;50K</td>\n",
       "    </tr>\n",
       "    <tr>\n",
       "      <th>8</th>\n",
       "      <td>31</td>\n",
       "      <td>Private</td>\n",
       "      <td>45781</td>\n",
       "      <td>Masters</td>\n",
       "      <td>14</td>\n",
       "      <td>Never-married</td>\n",
       "      <td>Prof-specialty</td>\n",
       "      <td>Not-in-family</td>\n",
       "      <td>White</td>\n",
       "      <td>Female</td>\n",
       "      <td>14084</td>\n",
       "      <td>0</td>\n",
       "      <td>50</td>\n",
       "      <td>United-States</td>\n",
       "      <td>&gt;50K</td>\n",
       "    </tr>\n",
       "    <tr>\n",
       "      <th>9</th>\n",
       "      <td>42</td>\n",
       "      <td>Private</td>\n",
       "      <td>159449</td>\n",
       "      <td>Bachelors</td>\n",
       "      <td>13</td>\n",
       "      <td>Married-civ-spouse</td>\n",
       "      <td>Exec-managerial</td>\n",
       "      <td>Husband</td>\n",
       "      <td>White</td>\n",
       "      <td>Male</td>\n",
       "      <td>5178</td>\n",
       "      <td>0</td>\n",
       "      <td>40</td>\n",
       "      <td>United-States</td>\n",
       "      <td>&gt;50K</td>\n",
       "    </tr>\n",
       "  </tbody>\n",
       "</table>\n",
       "</div>"
      ],
      "text/plain": [
       "   age          workclass  fnlwgt   education  educ_num  \\\n",
       "0   39          State-gov   77516   Bachelors        13   \n",
       "1   50   Self-emp-not-inc   83311   Bachelors        13   \n",
       "2   38            Private  215646     HS-grad         9   \n",
       "3   53            Private  234721        11th         7   \n",
       "4   28            Private  338409   Bachelors        13   \n",
       "5   37            Private  284582     Masters        14   \n",
       "6   49            Private  160187         9th         5   \n",
       "7   52   Self-emp-not-inc  209642     HS-grad         9   \n",
       "8   31            Private   45781     Masters        14   \n",
       "9   42            Private  159449   Bachelors        13   \n",
       "\n",
       "           marital_status          occupation    relationship    race  \\\n",
       "0           Never-married        Adm-clerical   Not-in-family   White   \n",
       "1      Married-civ-spouse     Exec-managerial         Husband   White   \n",
       "2                Divorced   Handlers-cleaners   Not-in-family   White   \n",
       "3      Married-civ-spouse   Handlers-cleaners         Husband   Black   \n",
       "4      Married-civ-spouse      Prof-specialty            Wife   Black   \n",
       "5      Married-civ-spouse     Exec-managerial            Wife   White   \n",
       "6   Married-spouse-absent       Other-service   Not-in-family   Black   \n",
       "7      Married-civ-spouse     Exec-managerial         Husband   White   \n",
       "8           Never-married      Prof-specialty   Not-in-family   White   \n",
       "9      Married-civ-spouse     Exec-managerial         Husband   White   \n",
       "\n",
       "       sex  capital_gain  capital_loss  hrs_per_week  native_country  salary  \n",
       "0     Male          2174             0            40   United-States   <=50K  \n",
       "1     Male             0             0            13   United-States   <=50K  \n",
       "2     Male             0             0            40   United-States   <=50K  \n",
       "3     Male             0             0            40   United-States   <=50K  \n",
       "4   Female             0             0            40            Cuba   <=50K  \n",
       "5   Female             0             0            40   United-States   <=50K  \n",
       "6   Female             0             0            16         Jamaica   <=50K  \n",
       "7     Male             0             0            45   United-States    >50K  \n",
       "8   Female         14084             0            50   United-States    >50K  \n",
       "9     Male          5178             0            40   United-States    >50K  "
      ]
     },
     "execution_count": 10,
     "metadata": {},
     "output_type": "execute_result"
    }
   ],
   "source": [
    "census = pd.read_table('census.txt', sep = '\\t')\n",
    "census.head(10)"
   ]
  },
  {
   "cell_type": "code",
   "execution_count": 11,
   "id": "d4b3afab",
   "metadata": {},
   "outputs": [
    {
     "data": {
      "text/plain": [
       "(32561, 15)"
      ]
     },
     "execution_count": 11,
     "metadata": {},
     "output_type": "execute_result"
    }
   ],
   "source": [
    "census.shape"
   ]
  },
  {
   "cell_type": "code",
   "execution_count": 12,
   "id": "61fd5d2f",
   "metadata": {},
   "outputs": [
    {
     "data": {
      "text/plain": [
       " <=50K    24720\n",
       " >50K      7841\n",
       "Name: salary, dtype: int64"
      ]
     },
     "execution_count": 12,
     "metadata": {},
     "output_type": "execute_result"
    }
   ],
   "source": [
    "census.loc[:,'salary'].value_counts()"
   ]
  },
  {
   "cell_type": "markdown",
   "id": "89ce07c8",
   "metadata": {},
   "source": [
    "### Prepare the Data"
   ]
  },
  {
   "cell_type": "code",
   "execution_count": 13,
   "id": "aa35ca55",
   "metadata": {},
   "outputs": [
    {
     "name": "stdout",
     "output_type": "stream",
     "text": [
      "Numerical Feature Array Shape:   (32561, 6)\n",
      "Categorical Feature Array Shape: (32561, 8)\n",
      "Label Array Shape:               (32561,)\n"
     ]
    }
   ],
   "source": [
    "X2_num = census.loc[:,{'age', 'fnlwgt', 'educ_num', 'capital_gain', 'capital_loss', 'hrs_per_week'}]\n",
    "X2_cat = census.loc[:,{'workclass', 'education', 'marital_status', 'occupation', 'relationship', 'race', 'sex', 'native_country'}]\n",
    "y2 = census.loc[:,'salary']\n",
    "print(f'Numerical Feature Array Shape:   {X2_num.shape}')\n",
    "print(f'Categorical Feature Array Shape: {X2_cat.shape}')\n",
    "print(f'Label Array Shape:               {y2.shape}')"
   ]
  },
  {
   "cell_type": "code",
   "execution_count": 14,
   "id": "cffd6934",
   "metadata": {},
   "outputs": [
    {
     "name": "stdout",
     "output_type": "stream",
     "text": [
      "Encoded Feature Array Shape: (32561, 102)\n"
     ]
    }
   ],
   "source": [
    "encoder = OneHotEncoder(sparse=False)\n",
    "encoder.fit(X2_cat)\n",
    "X2_enc = encoder.transform(X2_cat)\n",
    "\n",
    "print(f'Encoded Feature Array Shape: {X2_enc.shape}')"
   ]
  },
  {
   "cell_type": "code",
   "execution_count": 15,
   "id": "ee23928c",
   "metadata": {},
   "outputs": [
    {
     "name": "stdout",
     "output_type": "stream",
     "text": [
      "Feature Array Shape: (32561, 108)\n"
     ]
    }
   ],
   "source": [
    "X2 = np.hstack((X2_num, X2_enc))\n",
    "print(f'Feature Array Shape: {X2.shape}')"
   ]
  },
  {
   "cell_type": "code",
   "execution_count": 16,
   "id": "7e812668",
   "metadata": {},
   "outputs": [
    {
     "name": "stdout",
     "output_type": "stream",
     "text": [
      "Training Features Shape:   (22792, 108)\n",
      "Validation Features Shape: (4884, 108)\n",
      "Test Features Shape:       (4885, 108)\n"
     ]
    }
   ],
   "source": [
    "X2_train, X2_hold, y2_train, y2_hold = train_test_split(X2, y2, test_size = 0.3, random_state=1, stratify=y2)\n",
    "X2_valid, X2_test, y2_valid, y2_test = train_test_split(X2_hold, y2_hold, test_size = 0.5, random_state=1, stratify=y2_hold)\n",
    "\n",
    "print(f'Training Features Shape:   {X2_train.shape}')\n",
    "print(f'Validation Features Shape: {X2_valid.shape}')\n",
    "print(f'Test Features Shape:       {X2_test.shape}')"
   ]
  },
  {
   "cell_type": "markdown",
   "id": "f65c1dc4",
   "metadata": {},
   "source": [
    "### Logistic Regression Model"
   ]
  },
  {
   "cell_type": "code",
   "execution_count": 17,
   "id": "571330f4",
   "metadata": {},
   "outputs": [
    {
     "name": "stdout",
     "output_type": "stream",
     "text": [
      "Training Accuracy:   0.7988\n",
      "Validation Accuracy: 0.7967\n"
     ]
    }
   ],
   "source": [
    "lr_mod = LogisticRegression(solver='lbfgs', penalty='none', max_iter=1000)\n",
    "lr_mod.fit(X2_train, y2_train)\n",
    "\n",
    "print(f'Training Accuracy:   {np.round(lr_mod.score(X2_train, y2_train),4)}')\n",
    "print(f'Validation Accuracy: {np.round(lr_mod.score(X2_valid, y2_valid),4)}')"
   ]
  },
  {
   "cell_type": "markdown",
   "id": "2307c9d0",
   "metadata": {},
   "source": [
    "### Decision Tree Models"
   ]
  },
  {
   "cell_type": "code",
   "execution_count": 18,
   "id": "95dd1869",
   "metadata": {},
   "outputs": [
    {
     "name": "stdout",
     "output_type": "stream",
     "text": [
      "Optimal value for max_depth:           6\n",
      "Training Accuracy for Optimal Model:   0.8585\n",
      "Validation Accuracy for Optimal Model: 0.8563\n"
     ]
    }
   ],
   "source": [
    "dt_train_acc = []\n",
    "dt_valid_acc = []\n",
    "depth_range = range(2,30)\n",
    "for d in depth_range:\n",
    "    rand = np.random.seed(1)\n",
    "    temp_tree = DecisionTreeClassifier(max_depth=d, random_state=rand)\n",
    "    temp_tree.fit(X2_train, y2_train)\n",
    "    dt_train_acc.append(temp_tree.score(X2_train, y2_train))\n",
    "    dt_valid_acc.append(temp_tree.score(X2_valid, y2_valid))\n",
    "dt_idx = np.argmax(dt_valid_acc)\n",
    "dt_opt_depth = depth_range[dt_idx]\n",
    "print(f'Optimal value for max_depth:           {dt_opt_depth}')\n",
    "print(f'Training Accuracy for Optimal Model:   {np.round(dt_train_acc[dt_idx],4)}')\n",
    "print(f'Validation Accuracy for Optimal Model: {np.round(dt_valid_acc[dt_idx],4)}')"
   ]
  },
  {
   "cell_type": "code",
   "execution_count": 19,
   "id": "f6200937",
   "metadata": {},
   "outputs": [
    {
     "data": {
      "image/png": "[encoded data removed]",
      "text/plain": [
       "<Figure size 648x432 with 1 Axes>"
      ]
     },
     "metadata": {
      "needs_background": "light"
     },
     "output_type": "display_data"
    }
   ],
   "source": [
    "plt.figure(figsize=([9, 6]))\n",
    "plt.plot(depth_range, dt_train_acc, label='Training')\n",
    "plt.plot(depth_range, dt_valid_acc, label='Validation')\n",
    "plt.xlabel('Max Depth')\n",
    "plt.ylabel('Accuracy')\n",
    "plt.xticks(depth_range)\n",
    "plt.legend()\n",
    "plt.show()"
   ]
  },
  {
   "cell_type": "markdown",
   "id": "4758489a",
   "metadata": {},
   "source": [
    "### Random Forest Models"
   ]
  },
  {
   "cell_type": "code",
   "execution_count": 20,
   "id": "1b3e861f",
   "metadata": {},
   "outputs": [
    {
     "name": "stdout",
     "output_type": "stream",
     "text": [
      "Optimal value for max_depth:           22\n",
      "Training Accuracy for Optimal Model:   0.9385\n",
      "Validation Accuracy for Optimal Model: 0.8643\n"
     ]
    }
   ],
   "source": [
    "rf_train_acc = []\n",
    "rf_valid_acc = []\n",
    "for d in depth_range:             #using the same range as created in previous cell\n",
    "    rand_seed = np.random.seed(1)\n",
    "    temp_forest = RandomForestClassifier(n_estimators=100, max_depth=d, random_state=rand_seed)\n",
    "    temp_forest.fit(X2_train, y2_train)\n",
    "    rf_train_acc.append(temp_forest.score(X2_train, y2_train))\n",
    "    rf_valid_acc.append(temp_forest.score(X2_valid, y2_valid))\n",
    "rf_idx = np.argmax(rf_valid_acc)\n",
    "rf_opt_depth = depth_range[rf_idx]\n",
    "print(f'Optimal value for max_depth:           {rf_opt_depth}')\n",
    "print(f'Training Accuracy for Optimal Model:   {np.round(rf_train_acc[rf_idx],4)}')\n",
    "print(f'Validation Accuracy for Optimal Model: {np.round(rf_valid_acc[rf_idx],4)}')"
   ]
  },
  {
   "cell_type": "code",
   "execution_count": 21,
   "id": "a3d21982",
   "metadata": {},
   "outputs": [
    {
     "data": {
      "image/png": "[encoded data removed]",
      "text/plain": [
       "<Figure size 648x432 with 1 Axes>"
      ]
     },
     "metadata": {
      "needs_background": "light"
     },
     "output_type": "display_data"
    }
   ],
   "source": [
    "plt.figure(figsize=([9, 6]))\n",
    "plt.plot(depth_range, rf_train_acc, label='Training')\n",
    "plt.plot(depth_range, rf_valid_acc, label='Validation')\n",
    "plt.xlabel('Max Depth')\n",
    "plt.ylabel('Accuracy')\n",
    "plt.xticks(depth_range)\n",
    "plt.legend()\n",
    "plt.show()"
   ]
  },
  {
   "cell_type": "markdown",
   "id": "3dfe7a0a",
   "metadata": {},
   "source": [
    "### Evaluate Final Model"
   ]
  },
  {
   "cell_type": "code",
   "execution_count": 22,
   "id": "6a80d170",
   "metadata": {},
   "outputs": [
    {
     "name": "stdout",
     "output_type": "stream",
     "text": [
      "Training Accuracy for Final Model:   0.9385\n",
      "Validation Accuracy for Final Model: 0.8643\n",
      "Testing Accuracy for Final Model:    0.8628\n"
     ]
    }
   ],
   "source": [
    "final_seed = np.random.seed(1)\n",
    "final_model = RandomForestClassifier(n_estimators=100, max_depth=22, random_state=final_seed)\n",
    "final_model.fit(X2_train, y2_train)\n",
    "print(f'Training Accuracy for Final Model:   {np.round(final_model.score(X2_train, y2_train),4)}')\n",
    "print(f'Validation Accuracy for Final Model: {np.round(final_model.score(X2_valid, y2_valid),4)}')\n",
    "print(f'Testing Accuracy for Final Model:    {np.round(final_model.score(X2_test, y2_test),4)}')"
   ]
  },
  {
   "cell_type": "code",
   "execution_count": 23,
   "id": "9666e493",
   "metadata": {},
   "outputs": [
    {
     "data": {
      "text/html": [
       "<div>\n",
       "<style scoped>\n",
       "    .dataframe tbody tr th:only-of-type {\n",
       "        vertical-align: middle;\n",
       "    }\n",
       "\n",
       "    .dataframe tbody tr th {\n",
       "        vertical-align: top;\n",
       "    }\n",
       "\n",
       "    .dataframe thead th {\n",
       "        text-align: right;\n",
       "    }\n",
       "</style>\n",
       "<table border=\"1\" class=\"dataframe\">\n",
       "  <thead>\n",
       "    <tr style=\"text-align: right;\">\n",
       "      <th></th>\n",
       "      <th>&lt;=50k</th>\n",
       "      <th>&gt;50k</th>\n",
       "    </tr>\n",
       "  </thead>\n",
       "  <tbody>\n",
       "    <tr>\n",
       "      <th>&lt;=50k</th>\n",
       "      <td>3494</td>\n",
       "      <td>215</td>\n",
       "    </tr>\n",
       "    <tr>\n",
       "      <th>&gt;50k</th>\n",
       "      <td>455</td>\n",
       "      <td>721</td>\n",
       "    </tr>\n",
       "  </tbody>\n",
       "</table>\n",
       "</div>"
      ],
      "text/plain": [
       "       <=50k  >50k\n",
       "<=50k   3494   215\n",
       ">50k     455   721"
      ]
     },
     "execution_count": 23,
     "metadata": {},
     "output_type": "execute_result"
    }
   ],
   "source": [
    "test_pred = final_model.predict(X2_test)\n",
    "array = confusion_matrix(y2_test, test_pred)\n",
    "df = pd.DataFrame(array)\n",
    "df.rename(columns={0:'<=50k', 1:'>50k'}, inplace=True)\n",
    "df.rename(index={0:'<=50k', 1:'>50k'}, inplace=True)\n",
    "df"
   ]
  },
  {
   "cell_type": "code",
   "execution_count": 24,
   "id": "ce6a57c0",
   "metadata": {},
   "outputs": [
    {
     "name": "stdout",
     "output_type": "stream",
     "text": [
      "              precision    recall  f1-score   support\n",
      "\n",
      "       <=50K       0.88      0.94      0.91      3709\n",
      "        >50K       0.77      0.61      0.68      1176\n",
      "\n",
      "    accuracy                           0.86      4885\n",
      "   macro avg       0.83      0.78      0.80      4885\n",
      "weighted avg       0.86      0.86      0.86      4885\n",
      "\n"
     ]
    }
   ],
   "source": [
    "print(classification_report(y2_test, test_pred))"
   ]
  }
 ],
 "metadata": {
  "kernelspec": {
   "display_name": "Python 3 (ipykernel)",
   "language": "python",
   "name": "python3"
  },
  "language_info": {
   "codemirror_mode": {
    "name": "ipython",
    "version": 3
   },
   "file_extension": ".py",
   "mimetype": "text/x-python",
   "name": "python",
   "nbconvert_exporter": "python",
   "pygments_lexer": "ipython3",
   "version": "3.9.7"
  }
 },
 "nbformat": 4,
 "nbformat_minor": 5
}
